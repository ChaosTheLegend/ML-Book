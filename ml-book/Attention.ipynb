{
 "cells": [
  {
   "cell_type": "markdown",
   "source": [
    "# Attention Mechanism"
   ],
   "metadata": {
    "collapsed": false
   },
   "id": "fdb71ccca406f598"
  },
  {
   "cell_type": "markdown",
   "source": [
    "## RNN recap\n",
    "\n",
    "In a basic RNN, each recurrent neuron receives inputs from all neurons from the previous time step, as well as the inputs from the current time step, hence the term 'recurrent'."
   ],
   "metadata": {
    "collapsed": false
   },
   "id": "5ffcb30cf3fce291"
  },
  {
   "cell_type": "code",
   "execution_count": 11,
   "outputs": [],
   "source": [
    "### This cell should be hidden in the final version\n",
    "\n",
    "import tensorflow as tf\n",
    "import numpy as np\n",
    "import pandas as pd\n",
    "from matplotlib import pyplot as plt\n",
    "from keras.src.utils import pad_sequences\n",
    "from jupyterquiz import display_quiz\n",
    "from sklearn.metrics import accuracy_score\n",
    "from keras.datasets import imdb\n",
    "\n",
    "\n",
    "git_path=\"https://raw.githubusercontent.com/ChaosTheLegend/ML-Book/main/Quizes/\"\n",
    "\n",
    "(x_train, y_train), (x_test, y_test) = tf.keras.datasets.imdb.load_data(num_words=10000)\n",
    "\n",
    "max_len = 200\n",
    "x_train = pad_sequences(x_train, maxlen=max_len, truncating='post')\n",
    "x_test = pad_sequences(x_test, maxlen=max_len, truncating='post')\n",
    "num_words = 10000\n",
    "\n",
    "embedding_dim = 100\n",
    "hidden_dim = 256\n",
    "output_dim = 1\n",
    "dropout_rate = 0.5"
   ],
   "metadata": {
    "collapsed": false,
    "ExecuteTime": {
     "end_time": "2023-12-12T22:38:09.969734Z",
     "start_time": "2023-12-12T22:38:06.956046500Z"
    }
   },
   "id": "66e05d8454aad315"
  },
  {
   "cell_type": "code",
   "execution_count": 53,
   "outputs": [],
   "source": [
    "model = tf.keras.Sequential([\n",
    "    tf.keras.layers.Embedding(input_dim=num_words, output_dim=embedding_dim, input_length=max_len),\n",
    "    tf.keras.layers.SimpleRNN(hidden_dim),\n",
    "    tf.keras.layers.Dense(output_dim, activation='sigmoid')\n",
    "])\n",
    "\n",
    "model.compile(optimizer='adam', loss='binary_crossentropy', metrics=['accuracy'])"
   ],
   "metadata": {
    "collapsed": false,
    "ExecuteTime": {
     "end_time": "2023-12-13T00:13:24.676706100Z",
     "start_time": "2023-12-13T00:13:24.602550200Z"
    }
   },
   "id": "97fe91c4fde6ef63"
  },
  {
   "cell_type": "code",
   "execution_count": 54,
   "outputs": [
    {
     "name": "stdout",
     "output_type": "stream",
     "text": [
      "Model: \"sequential_5\"\n",
      "_________________________________________________________________\n",
      " Layer (type)                Output Shape              Param #   \n",
      "=================================================================\n",
      " embedding_18 (Embedding)    (None, 200, 100)          1000000   \n",
      "                                                                 \n",
      " simple_rnn_18 (SimpleRNN)   (None, 256)               91392     \n",
      "                                                                 \n",
      " dense_7 (Dense)             (None, 1)                 257       \n",
      "                                                                 \n",
      "=================================================================\n",
      "Total params: 1091649 (4.16 MB)\n",
      "Trainable params: 1091649 (4.16 MB)\n",
      "Non-trainable params: 0 (0.00 Byte)\n",
      "_________________________________________________________________\n"
     ]
    }
   ],
   "source": [
    "model.summary()"
   ],
   "metadata": {
    "collapsed": false,
    "ExecuteTime": {
     "end_time": "2023-12-13T00:13:41.105707800Z",
     "start_time": "2023-12-13T00:13:41.072079500Z"
    }
   },
   "id": "32b9069dec3ad7eb"
  },
  {
   "cell_type": "code",
   "execution_count": 55,
   "outputs": [
    {
     "name": "stdout",
     "output_type": "stream",
     "text": [
      "Epoch 1/50\n",
      "157/157 [==============================] - 20s 120ms/step - loss: 0.6898 - accuracy: 0.5290 - val_loss: 0.6664 - val_accuracy: 0.5832\n",
      "Epoch 2/50\n",
      "157/157 [==============================] - 18s 116ms/step - loss: 0.5455 - accuracy: 0.7261 - val_loss: 0.4837 - val_accuracy: 0.7968\n",
      "Epoch 3/50\n",
      "157/157 [==============================] - 18s 118ms/step - loss: 0.5530 - accuracy: 0.7133 - val_loss: 0.6988 - val_accuracy: 0.5578\n",
      "Epoch 4/50\n",
      "157/157 [==============================] - 19s 119ms/step - loss: 0.5469 - accuracy: 0.7164 - val_loss: 0.6789 - val_accuracy: 0.5876\n",
      "Epoch 5/50\n",
      "157/157 [==============================] - 18s 117ms/step - loss: 0.4261 - accuracy: 0.8020 - val_loss: 0.7969 - val_accuracy: 0.5920\n",
      "Epoch 6/50\n",
      "157/157 [==============================] - 18s 117ms/step - loss: 0.4063 - accuracy: 0.8070 - val_loss: 0.7381 - val_accuracy: 0.5858\n",
      "Epoch 7/50\n",
      "157/157 [==============================] - 19s 121ms/step - loss: 0.3244 - accuracy: 0.8585 - val_loss: 0.8343 - val_accuracy: 0.6588\n",
      "Epoch 8/50\n",
      "157/157 [==============================] - 19s 120ms/step - loss: 0.2931 - accuracy: 0.8748 - val_loss: 0.8073 - val_accuracy: 0.6440\n",
      "Epoch 9/50\n",
      "157/157 [==============================] - 19s 118ms/step - loss: 0.2106 - accuracy: 0.9172 - val_loss: 0.7509 - val_accuracy: 0.5768\n",
      "Epoch 10/50\n",
      "157/157 [==============================] - 19s 121ms/step - loss: 0.5139 - accuracy: 0.7345 - val_loss: 0.7587 - val_accuracy: 0.5854\n",
      "Epoch 11/50\n",
      "157/157 [==============================] - 19s 124ms/step - loss: 0.2914 - accuracy: 0.8714 - val_loss: 0.8733 - val_accuracy: 0.6426\n",
      "Epoch 12/50\n",
      "157/157 [==============================] - 19s 123ms/step - loss: 0.1737 - accuracy: 0.9341 - val_loss: 1.0436 - val_accuracy: 0.6510\n",
      "Epoch 13/50\n",
      "157/157 [==============================] - 19s 119ms/step - loss: 0.1176 - accuracy: 0.9574 - val_loss: 1.1556 - val_accuracy: 0.6416\n",
      "Epoch 14/50\n",
      "157/157 [==============================] - 19s 118ms/step - loss: 0.0772 - accuracy: 0.9732 - val_loss: 1.2434 - val_accuracy: 0.6560\n",
      "Epoch 15/50\n",
      "157/157 [==============================] - 19s 118ms/step - loss: 0.0539 - accuracy: 0.9826 - val_loss: 1.3444 - val_accuracy: 0.6674\n",
      "Epoch 16/50\n",
      "157/157 [==============================] - 18s 117ms/step - loss: 0.0425 - accuracy: 0.9865 - val_loss: 1.3876 - val_accuracy: 0.6738\n",
      "Epoch 17/50\n",
      "157/157 [==============================] - 19s 118ms/step - loss: 0.0327 - accuracy: 0.9898 - val_loss: 1.5145 - val_accuracy: 0.6712\n",
      "Epoch 18/50\n",
      "157/157 [==============================] - 19s 118ms/step - loss: 0.0236 - accuracy: 0.9933 - val_loss: 1.5610 - val_accuracy: 0.6724\n",
      "Epoch 19/50\n",
      "157/157 [==============================] - 18s 118ms/step - loss: 0.0169 - accuracy: 0.9955 - val_loss: 1.6331 - val_accuracy: 0.6842\n",
      "Epoch 20/50\n",
      "157/157 [==============================] - 18s 117ms/step - loss: 0.0104 - accuracy: 0.9976 - val_loss: 1.7854 - val_accuracy: 0.6722\n",
      "Epoch 21/50\n",
      "157/157 [==============================] - 18s 117ms/step - loss: 0.0160 - accuracy: 0.9949 - val_loss: 1.7621 - val_accuracy: 0.6882\n",
      "Epoch 22/50\n",
      "157/157 [==============================] - 18s 116ms/step - loss: 0.0329 - accuracy: 0.9888 - val_loss: 1.6481 - val_accuracy: 0.6944\n",
      "Epoch 23/50\n",
      "157/157 [==============================] - 18s 116ms/step - loss: 0.0216 - accuracy: 0.9934 - val_loss: 1.7525 - val_accuracy: 0.6988\n",
      "Epoch 24/50\n",
      "157/157 [==============================] - 19s 120ms/step - loss: 0.0177 - accuracy: 0.9944 - val_loss: 1.8572 - val_accuracy: 0.6662\n",
      "Epoch 25/50\n",
      "157/157 [==============================] - 19s 123ms/step - loss: 0.0118 - accuracy: 0.9962 - val_loss: 1.7680 - val_accuracy: 0.6740\n",
      "Epoch 26/50\n",
      "157/157 [==============================] - 19s 119ms/step - loss: 0.0131 - accuracy: 0.9966 - val_loss: 1.8523 - val_accuracy: 0.6686\n",
      "Epoch 27/50\n",
      "157/157 [==============================] - 18s 117ms/step - loss: 0.0131 - accuracy: 0.9962 - val_loss: 1.8967 - val_accuracy: 0.6954\n",
      "Epoch 28/50\n",
      "157/157 [==============================] - 18s 117ms/step - loss: 0.0325 - accuracy: 0.9883 - val_loss: 1.2714 - val_accuracy: 0.6666\n",
      "Epoch 29/50\n",
      "157/157 [==============================] - 18s 117ms/step - loss: 0.2235 - accuracy: 0.9098 - val_loss: 1.0168 - val_accuracy: 0.6870\n",
      "Epoch 30/50\n",
      "157/157 [==============================] - 18s 118ms/step - loss: 0.0825 - accuracy: 0.9703 - val_loss: 1.2400 - val_accuracy: 0.7004\n",
      "Epoch 31/50\n",
      "157/157 [==============================] - 19s 122ms/step - loss: 0.0359 - accuracy: 0.9872 - val_loss: 1.3344 - val_accuracy: 0.7060\n",
      "Epoch 32/50\n",
      "157/157 [==============================] - 19s 119ms/step - loss: 0.0258 - accuracy: 0.9917 - val_loss: 1.3688 - val_accuracy: 0.7204\n",
      "Epoch 33/50\n",
      "157/157 [==============================] - 19s 118ms/step - loss: 0.0318 - accuracy: 0.9891 - val_loss: 1.5601 - val_accuracy: 0.6952\n",
      "Epoch 34/50\n",
      "157/157 [==============================] - 19s 119ms/step - loss: 0.0223 - accuracy: 0.9932 - val_loss: 1.4739 - val_accuracy: 0.7138\n",
      "Epoch 35/50\n",
      "157/157 [==============================] - 18s 118ms/step - loss: 0.0173 - accuracy: 0.9942 - val_loss: 1.7123 - val_accuracy: 0.6726\n",
      "Epoch 36/50\n",
      "157/157 [==============================] - 18s 118ms/step - loss: 0.0125 - accuracy: 0.9967 - val_loss: 1.7682 - val_accuracy: 0.6958\n",
      "Epoch 37/50\n",
      "157/157 [==============================] - 18s 116ms/step - loss: 0.0065 - accuracy: 0.9983 - val_loss: 1.6683 - val_accuracy: 0.7166\n",
      "Epoch 38/50\n",
      "157/157 [==============================] - 18s 116ms/step - loss: 0.0125 - accuracy: 0.9964 - val_loss: 1.6760 - val_accuracy: 0.7110\n",
      "Epoch 39/50\n",
      "157/157 [==============================] - 19s 120ms/step - loss: 0.0246 - accuracy: 0.9919 - val_loss: 1.7012 - val_accuracy: 0.7186\n",
      "Epoch 40/50\n",
      "157/157 [==============================] - 19s 122ms/step - loss: 0.0235 - accuracy: 0.9923 - val_loss: 1.7307 - val_accuracy: 0.7058\n",
      "Epoch 41/50\n",
      "157/157 [==============================] - 20s 126ms/step - loss: 0.0096 - accuracy: 0.9972 - val_loss: 1.7639 - val_accuracy: 0.7110\n",
      "Epoch 42/50\n",
      "157/157 [==============================] - 19s 123ms/step - loss: 0.0295 - accuracy: 0.9901 - val_loss: 1.7396 - val_accuracy: 0.6966\n",
      "Epoch 43/50\n",
      "157/157 [==============================] - 21s 131ms/step - loss: 0.0211 - accuracy: 0.9923 - val_loss: 1.7624 - val_accuracy: 0.6846\n",
      "Epoch 44/50\n",
      "157/157 [==============================] - 20s 130ms/step - loss: 0.0114 - accuracy: 0.9966 - val_loss: 1.7547 - val_accuracy: 0.7090\n",
      "Epoch 45/50\n",
      "157/157 [==============================] - 20s 129ms/step - loss: 0.0138 - accuracy: 0.9960 - val_loss: 1.7260 - val_accuracy: 0.7174\n",
      "Epoch 46/50\n",
      "157/157 [==============================] - 19s 123ms/step - loss: 0.0140 - accuracy: 0.9956 - val_loss: 1.8473 - val_accuracy: 0.6902\n",
      "Epoch 47/50\n",
      "157/157 [==============================] - 19s 121ms/step - loss: 0.0144 - accuracy: 0.9948 - val_loss: 1.8642 - val_accuracy: 0.7034\n",
      "Epoch 48/50\n",
      "157/157 [==============================] - 20s 127ms/step - loss: 0.0296 - accuracy: 0.9901 - val_loss: 1.6130 - val_accuracy: 0.6892\n",
      "Epoch 49/50\n",
      "157/157 [==============================] - 19s 122ms/step - loss: 0.0236 - accuracy: 0.9929 - val_loss: 1.6629 - val_accuracy: 0.6966\n",
      "Epoch 50/50\n",
      "157/157 [==============================] - 20s 126ms/step - loss: 0.0091 - accuracy: 0.9973 - val_loss: 1.8967 - val_accuracy: 0.7062\n"
     ]
    },
    {
     "data": {
      "text/plain": "<keras.src.callbacks.History at 0x2ab0fb52410>"
     },
     "execution_count": 55,
     "metadata": {},
     "output_type": "execute_result"
    }
   ],
   "source": [
    "model.fit(x_train, y_train, epochs=50, batch_size=128, validation_split=0.2)"
   ],
   "metadata": {
    "collapsed": false,
    "ExecuteTime": {
     "end_time": "2023-12-13T00:29:31.318743300Z",
     "start_time": "2023-12-13T00:13:48.235367700Z"
    }
   },
   "id": "8f436563e9bda4e1"
  },
  {
   "cell_type": "code",
   "execution_count": 57,
   "outputs": [],
   "source": [
    "model.save('simpleRNN.keras')"
   ],
   "metadata": {
    "collapsed": false,
    "ExecuteTime": {
     "end_time": "2023-12-13T00:32:27.742276300Z",
     "start_time": "2023-12-13T00:32:27.684560500Z"
    }
   },
   "id": "3de29b3a7341cf20"
  },
  {
   "cell_type": "code",
   "execution_count": 58,
   "outputs": [
    {
     "data": {
      "text/plain": "[<matplotlib.lines.Line2D at 0x2ab180bedd0>]"
     },
     "execution_count": 58,
     "metadata": {},
     "output_type": "execute_result"
    },
    {
     "data": {
      "text/plain": "<Figure size 640x480 with 1 Axes>",
      "image/png": "[encoded data removed]"
     },
     "metadata": {},
     "output_type": "display_data"
    }
   ],
   "source": [
    "accuracy_epochs = pd.read_csv('simplernn_accuracy.csv')\n",
    "\n",
    "plt.plot(accuracy_epochs['epoch'], accuracy_epochs['accuracy'])"
   ],
   "metadata": {
    "collapsed": false,
    "ExecuteTime": {
     "end_time": "2023-12-13T00:32:29.967680200Z",
     "start_time": "2023-12-13T00:32:29.866771400Z"
    }
   },
   "id": "7c270685731ecc58"
  },
  {
   "cell_type": "code",
   "execution_count": 62,
   "outputs": [
    {
     "name": "stdout",
     "output_type": "stream",
     "text": [
      "Model: \"sequential_5\"\n",
      "_________________________________________________________________\n",
      " Layer (type)                Output Shape              Param #   \n",
      "=================================================================\n",
      " embedding_18 (Embedding)    (None, 200, 100)          1000000   \n",
      "                                                                 \n",
      " simple_rnn_18 (SimpleRNN)   (None, 256)               91392     \n",
      "                                                                 \n",
      " dense_7 (Dense)             (None, 1)                 257       \n",
      "                                                                 \n",
      "=================================================================\n",
      "Total params: 1091649 (4.16 MB)\n",
      "Trainable params: 1091649 (4.16 MB)\n",
      "Non-trainable params: 0 (0.00 Byte)\n",
      "_________________________________________________________________\n"
     ]
    }
   ],
   "source": [
    "simpleRNN = tf.keras.models.load_model('simpleRNN.keras')\n",
    "\n",
    "simpleRNN.summary()"
   ],
   "metadata": {
    "collapsed": false,
    "ExecuteTime": {
     "end_time": "2023-12-13T00:34:03.216970100Z",
     "start_time": "2023-12-13T00:34:02.938299100Z"
    }
   },
   "id": "6f92ef65245f684c"
  },
  {
   "cell_type": "code",
   "execution_count": 63,
   "outputs": [
    {
     "name": "stdout",
     "output_type": "stream",
     "text": [
      "782/782 [==============================] - 12s 15ms/step\n"
     ]
    }
   ],
   "source": [
    "# make predictions and calculate accuracy\n",
    "\n",
    "y_pred = simpleRNN.predict(x_test)\n",
    "y_pred = np.round(y_pred)\n",
    "\n",
    "simple_accuracy = accuracy_score(y_test, y_pred)"
   ],
   "metadata": {
    "collapsed": false,
    "ExecuteTime": {
     "end_time": "2023-12-13T00:34:18.746786500Z",
     "start_time": "2023-12-13T00:34:06.932003900Z"
    }
   },
   "id": "842d99705f3300cb"
  },
  {
   "cell_type": "code",
   "execution_count": 65,
   "outputs": [
    {
     "data": {
      "text/plain": "0.68688"
     },
     "execution_count": 65,
     "metadata": {},
     "output_type": "execute_result"
    }
   ],
   "source": [
    "simple_accuracy"
   ],
   "metadata": {
    "collapsed": false,
    "ExecuteTime": {
     "end_time": "2023-12-13T00:34:21.982295200Z",
     "start_time": "2023-12-13T00:34:21.957685300Z"
    }
   },
   "id": "ec0f3e5ea6f1d196"
  },
  {
   "cell_type": "markdown",
   "source": [
    "## The Need for Attention Mechanism\n",
    "\n",
    "The problem with basic RNNs is that they are not very good at handling long sequences. \n",
    "\n",
    "Even when using more epochs, the accuracy of the model does not improve much. This is because the model is not able to learn the long-term dependencies in the data.\n",
    "\n",
    "This is known as the vanishing gradient problem."
   ],
   "metadata": {
    "collapsed": false
   },
   "id": "aa90419af88e83fc"
  },
  {
   "cell_type": "markdown",
   "source": [
    "### Vanishing Gradient Problem\n",
    "\n",
    "The vanishing gradient problem occurs when the gradients of the loss function become increasingly smaller as the model learns to associate inputs and outputs that are further apart in time.\n",
    "\n",
    "This leads to the model \"forgetting\" the information from the earlier inputs, which makes it difficult to learn long-term dependencies.\n",
    "\n",
    "![Simple RNN](https://raw.githubusercontent.com/ChaosTheLegend/ML-Book/main/Images/SimpleRNN.png)"
   ],
   "metadata": {
    "collapsed": false
   },
   "id": "3fabaa35bffd3e95"
  },
  {
   "cell_type": "markdown",
   "source": [
    "### Math Behind Vanishing Gradient Problem\n",
    "\n",
    "The vanishing gradient problem occurs because of the way gradients are computed in RNNs:\n",
    "\n",
    "$$\n",
    "\\frac{\\partial L}{\\partial W} = \\frac{\\partial L}{\\partial y} \\frac{\\partial y}{\\partial h} \\frac{\\partial h}{\\partial W}\n",
    "$$\n",
    "\n",
    "The gradient is computed by multiplying the gradients of the loss function with respect to the output, the output with respect to the hidden state, and the hidden state with respect to the weights.\n",
    "\n",
    "Since gradients are multiplied together, if the gradients at each time step are less than 1 (e.g., due to using activation functions like sigmoid or tanh), this multiplication leads to a compounding effect. As you go further back in time, the gradients become increasingly smaller.\n",
    "\n",
    "\n",
    "![Simple RNN](https://raw.githubusercontent.com/ChaosTheLegend/ML-Book/main/Images/SimpleRNNProblem.png)"
   ],
   "metadata": {
    "collapsed": false
   },
   "id": "f966d89f01fb6e0d"
  },
  {
   "cell_type": "markdown",
   "source": [
    "## Attention Mechanism\n",
    "\n",
    "To combat the vanishing gradient problem, we can use an attention mechanism.\n",
    "\n",
    "An attention mechanism is a way to help RNNs learn long-term dependencies by allowing the model to focus on the most relevant parts of the input sequence when producing a given output.\n",
    "\n",
    "We do this by adding a context vector to the model, which is a weighted sum of the encoder's hidden states. The weights are computed using an alignment score function, which measures how well the inputs around a given position and the output at that position match.\n",
    "\n",
    "![Attention Mechanism](https://raw.githubusercontent.com/ChaosTheLegend/ML-Book/main/Images/Attention.png)\n",
    "\n",
    "![Attention Mechanism](https://raw.githubusercontent.com/ChaosTheLegend/ML-Book/main/Images/AttentionLive.png)"
   ],
   "metadata": {
    "collapsed": false
   },
   "id": "33edbcad9a58f381"
  },
  {
   "cell_type": "markdown",
   "source": [
    "By adding an attention mechanism, we can improve the accuracy of our model."
   ],
   "metadata": {
    "collapsed": false
   },
   "id": "914968742e51bfa1"
  },
  {
   "cell_type": "code",
   "execution_count": 19,
   "outputs": [
    {
     "name": "stdout",
     "output_type": "stream",
     "text": [
      "Model: \"sequential_16\"\n",
      "_________________________________________________________________\n",
      " Layer (type)                Output Shape              Param #   \n",
      "=================================================================\n",
      " embedding_6 (Embedding)     (None, 200, 100)          1000000   \n",
      "                                                                 \n",
      " simple_rnn_14 (SimpleRNN)   (None, 256)               91392     \n",
      "                                                                 \n",
      " dense_15 (Dense)            (None, 1)                 257       \n",
      "                                                                 \n",
      "=================================================================\n",
      "Total params: 1091649 (4.16 MB)\n",
      "Trainable params: 1091649 (4.16 MB)\n",
      "Non-trainable params: 0 (0.00 Byte)\n",
      "_________________________________________________________________\n"
     ]
    }
   ],
   "source": [
    "simpleRNN = tf.keras.models.load_model('simpleRNN.keras')\n",
    "\n",
    "simpleRNN.summary()"
   ],
   "metadata": {
    "collapsed": false,
    "ExecuteTime": {
     "end_time": "2023-12-12T23:38:11.690834400Z",
     "start_time": "2023-12-12T23:38:11.376877800Z"
    }
   },
   "id": "be68090ee061ab0e"
  },
  {
   "cell_type": "code",
   "execution_count": 35,
   "outputs": [],
   "source": [
    "from keras.layers import Input, Embedding, LSTM, Dense, Attention, Bidirectional, Dropout, SimpleRNN\n",
    "import os\n",
    "\n",
    "inputs = Input(shape=(max_len,))\n",
    "embedding = Embedding(input_dim=num_words, output_dim=embedding_dim, input_length=max_len)(inputs)\n",
    "rnn = SimpleRNN(hidden_dim, return_sequences=True)(embedding)\n",
    "attention = Attention()([rnn, rnn])\n",
    "context = tf.reduce_sum(attention * rnn, axis=1)\n",
    "outputs = Dense(output_dim, activation='sigmoid')(context)\n",
    "\n",
    "model = tf.keras.Model(inputs, outputs)\n",
    "\n",
    "model.compile(optimizer='adam', loss='binary_crossentropy', metrics=['accuracy'])"
   ],
   "metadata": {
    "collapsed": false,
    "ExecuteTime": {
     "end_time": "2023-12-13T00:01:05.656168900Z",
     "start_time": "2023-12-13T00:01:05.578204100Z"
    }
   },
   "id": "1f01e4a44e2de4c5"
  },
  {
   "cell_type": "code",
   "execution_count": 36,
   "outputs": [
    {
     "name": "stdout",
     "output_type": "stream",
     "text": [
      "Model: \"model\"\n",
      "__________________________________________________________________________________________________\n",
      " Layer (type)                Output Shape                 Param #   Connected to                  \n",
      "==================================================================================================\n",
      " input_1 (InputLayer)        [(None, 200)]                0         []                            \n",
      "                                                                                                  \n",
      " embedding_17 (Embedding)    (None, 200, 100)             1000000   ['input_1[0][0]']             \n",
      "                                                                                                  \n",
      " simple_rnn_17 (SimpleRNN)   (None, 200, 256)             91392     ['embedding_17[0][0]']        \n",
      "                                                                                                  \n",
      " attention_14 (Attention)    (None, 200, 256)             0         ['simple_rnn_17[0][0]',       \n",
      "                                                                     'simple_rnn_17[0][0]']       \n",
      "                                                                                                  \n",
      " tf.math.multiply (TFOpLamb  (None, 200, 256)             0         ['attention_14[0][0]',        \n",
      " da)                                                                 'simple_rnn_17[0][0]']       \n",
      "                                                                                                  \n",
      " tf.math.reduce_sum (TFOpLa  (None, 256)                  0         ['tf.math.multiply[0][0]']    \n",
      " mbda)                                                                                            \n",
      "                                                                                                  \n",
      " dense_6 (Dense)             (None, 1)                    257       ['tf.math.reduce_sum[0][0]']  \n",
      "                                                                                                  \n",
      "==================================================================================================\n",
      "Total params: 1091649 (4.16 MB)\n",
      "Trainable params: 1091649 (4.16 MB)\n",
      "Non-trainable params: 0 (0.00 Byte)\n",
      "__________________________________________________________________________________________________\n"
     ]
    }
   ],
   "source": [
    "model.summary()"
   ],
   "metadata": {
    "collapsed": false,
    "ExecuteTime": {
     "end_time": "2023-12-13T00:01:13.388487400Z",
     "start_time": "2023-12-13T00:01:13.373328900Z"
    }
   },
   "id": "3d7d6bdb84a8411b"
  },
  {
   "cell_type": "code",
   "execution_count": 37,
   "outputs": [
    {
     "name": "stdout",
     "output_type": "stream",
     "text": [
      "Epoch 1/5\n",
      "157/157 [==============================] - 52s 329ms/step - loss: 0.5564 - accuracy: 0.7442 - val_loss: 0.3591 - val_accuracy: 0.8412\n",
      "Epoch 2/5\n",
      "157/157 [==============================] - 47s 303ms/step - loss: 0.2093 - accuracy: 0.9200 - val_loss: 0.3424 - val_accuracy: 0.8656\n",
      "Epoch 3/5\n",
      "157/157 [==============================] - 49s 311ms/step - loss: 0.0721 - accuracy: 0.9765 - val_loss: 0.5228 - val_accuracy: 0.8278\n",
      "Epoch 4/5\n",
      "157/157 [==============================] - 50s 318ms/step - loss: 0.0323 - accuracy: 0.9905 - val_loss: 0.6208 - val_accuracy: 0.8592\n",
      "Epoch 5/5\n",
      "157/157 [==============================] - 50s 316ms/step - loss: 0.0463 - accuracy: 0.9854 - val_loss: 0.4779 - val_accuracy: 0.8546\n"
     ]
    },
    {
     "data": {
      "text/plain": "<keras.src.callbacks.History at 0x2ab0e0a9550>"
     },
     "execution_count": 37,
     "metadata": {},
     "output_type": "execute_result"
    }
   ],
   "source": [
    "# train the model\n",
    "\n",
    "model.fit(x_train, y_train, epochs=5, batch_size=128, validation_split=0.2)"
   ],
   "metadata": {
    "collapsed": false,
    "ExecuteTime": {
     "end_time": "2023-12-13T00:05:34.306935400Z",
     "start_time": "2023-12-13T00:01:26.085119100Z"
    }
   },
   "id": "55a3b611477780f"
  },
  {
   "cell_type": "code",
   "execution_count": 38,
   "outputs": [],
   "source": [
    "model.save('simpleRNN_attention.keras')"
   ],
   "metadata": {
    "collapsed": false,
    "ExecuteTime": {
     "end_time": "2023-12-13T00:06:00.989233200Z",
     "start_time": "2023-12-13T00:06:00.920654300Z"
    }
   },
   "id": "f4417a525f649290"
  },
  {
   "cell_type": "code",
   "execution_count": 40,
   "outputs": [
    {
     "name": "stdout",
     "output_type": "stream",
     "text": [
      "782/782 [==============================] - 22s 28ms/step\n"
     ]
    },
    {
     "data": {
      "text/plain": "0.82792"
     },
     "execution_count": 40,
     "metadata": {},
     "output_type": "execute_result"
    }
   ],
   "source": [
    "y_pred = model.predict(x_test)\n",
    "\n",
    "y_pred = np.round(y_pred)\n",
    "\n",
    "\n",
    "attention_accuracy = accuracy_score(y_test, y_pred)\n",
    "\n",
    "attention_accuracy"
   ],
   "metadata": {
    "collapsed": false,
    "ExecuteTime": {
     "end_time": "2023-12-13T00:09:14.303433100Z",
     "start_time": "2023-12-13T00:08:51.792312300Z"
    }
   },
   "id": "c51edba3aa0cca73"
  },
  {
   "cell_type": "markdown",
   "source": [
    "By adding an attention mechanism, our model performs way better even when using the low number of epochs."
   ],
   "metadata": {
    "collapsed": false
   },
   "id": "5b9a581e71e4cd5a"
  },
  {
   "cell_type": "code",
   "execution_count": 66,
   "outputs": [
    {
     "data": {
      "text/plain": "Text(0, 0.5, 'Accuracy')"
     },
     "execution_count": 66,
     "metadata": {},
     "output_type": "execute_result"
    },
    {
     "data": {
      "text/plain": "<Figure size 640x480 with 1 Axes>",
      "image/png": "[encoded data removed]"
     },
     "metadata": {},
     "output_type": "display_data"
    }
   ],
   "source": [
    "# draw a bar chart to compare the accuracy of the two models\n",
    "\n",
    "accuracy = [attention_accuracy, simple_accuracy];\n",
    "\n",
    "\n",
    "plt.bar(['Attention (5 epochs)', 'Simple RNN (50 epochs)'], accuracy)\n",
    "\n",
    "# add a title to the plot\n",
    "\n",
    "plt.title('Accuracy of Simple RNN vs Attention Mechanism')\n",
    "\n",
    "# add a label to the y-axis\n",
    "\n",
    "plt.ylabel('Accuracy')\n"
   ],
   "metadata": {
    "collapsed": false,
    "ExecuteTime": {
     "end_time": "2023-12-13T00:34:28.677807700Z",
     "start_time": "2023-12-13T00:34:28.568412200Z"
    }
   },
   "id": "6e324f3877247619"
  },
  {
   "cell_type": "code",
   "execution_count": 56,
   "outputs": [
    {
     "name": "stdout",
     "output_type": "stream",
     "text": [
      "1/1 [==============================] - 0s 133ms/step\n"
     ]
    }
   ],
   "source": [
    "# make an interactive example to show how the attention mechanism works\n",
    "\n",
    "# 1) create a list test cases from the test set\n",
    "\n",
    "test_cases = x_test[:10]\n",
    "\n",
    "# 2) create a list of the corresponding labels\n",
    "\n",
    "labels = y_test[:10]\n",
    "\n",
    "\n",
    "# make a prediction for a test case and visualize the attention weights\n",
    "\n",
    "pred = model.predict(test_cases)\n",
    "\n",
    "weights = model.layers[2].get_weights()[0]\n",
    " \n",
    "\n"
   ],
   "metadata": {
    "collapsed": false,
    "ExecuteTime": {
     "end_time": "2023-12-13T00:29:31.498522800Z",
     "start_time": "2023-12-13T00:29:31.311725Z"
    }
   },
   "id": "f016ac08990378db"
  },
  {
   "cell_type": "code",
   "execution_count": null,
   "outputs": [],
   "source": [],
   "metadata": {
    "collapsed": false
   },
   "id": "df7464b0940ba467"
  }
 ],
 "metadata": {
  "kernelspec": {
   "display_name": "Python 3",
   "language": "python",
   "name": "python3"
  },
  "language_info": {
   "codemirror_mode": {
    "name": "ipython",
    "version": 2
   },
   "file_extension": ".py",
   "mimetype": "text/x-python",
   "name": "python",
   "nbconvert_exporter": "python",
   "pygments_lexer": "ipython2",
   "version": "2.7.6"
  }
 },
 "nbformat": 4,
 "nbformat_minor": 5
}
