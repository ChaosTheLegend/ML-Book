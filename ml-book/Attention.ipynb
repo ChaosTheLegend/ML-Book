{
 "cells": [
  {
   "cell_type": "markdown",
   "source": [
    "# Attention Mechanism"
   ],
   "metadata": {
    "collapsed": false
   },
   "id": "fdb71ccca406f598"
  },
  {
   "cell_type": "markdown",
   "source": [
    "# RNN recap\n",
    "\n",
    "In a basic RNN, each recurrent neuron receives inputs from all neurons from the previous time step, as well as the inputs from the current time step, hence the term 'recurrent'."
   ],
   "metadata": {
    "collapsed": false
   },
   "id": "5ffcb30cf3fce291"
  },
  {
   "cell_type": "code",
   "execution_count": 11,
   "outputs": [],
   "source": [
    "### This cell should be hidden in the final version\n",
    "\n",
    "import tensorflow as tf\n",
    "import numpy as np\n",
    "import pandas as pd\n",
    "from matplotlib import pyplot as plt\n",
    "from keras.src.utils import pad_sequences\n",
    "from jupyterquiz import display_quiz\n",
    "from sklearn.metrics import accuracy_score\n",
    "from keras.datasets import imdb\n",
    "\n",
    "\n",
    "git_path=\"https://raw.githubusercontent.com/ChaosTheLegend/ML-Book/main/Quizes/\"\n",
    "\n",
    "(x_train, y_train), (x_test, y_test) = tf.keras.datasets.imdb.load_data(num_words=10000)\n",
    "\n",
    "max_len = 200\n",
    "x_train = pad_sequences(x_train, maxlen=max_len, truncating='post')\n",
    "x_test = pad_sequences(x_test, maxlen=max_len, truncating='post')\n",
    "num_words = 10000\n",
    "\n",
    "embedding_dim = 100\n",
    "hidden_dim = 256\n",
    "output_dim = 1\n",
    "dropout_rate = 0.5"
   ],
   "metadata": {
    "collapsed": false,
    "ExecuteTime": {
     "end_time": "2023-12-12T22:38:09.969734Z",
     "start_time": "2023-12-12T22:38:06.956046500Z"
    }
   },
   "id": "66e05d8454aad315"
  },
  {
   "cell_type": "code",
   "execution_count": 12,
   "outputs": [],
   "source": [
    "model = tf.keras.Sequential([\n",
    "    tf.keras.layers.Embedding(input_dim=num_words, output_dim=embedding_dim, input_length=max_len),\n",
    "    tf.keras.layers.SimpleRNN(hidden_dim),\n",
    "    tf.keras.layers.Dense(output_dim, activation='sigmoid')\n",
    "])\n",
    "\n",
    "model.compile(optimizer='adam', loss='binary_crossentropy', metrics=['accuracy'])"
   ],
   "metadata": {
    "collapsed": false,
    "ExecuteTime": {
     "end_time": "2023-12-12T22:38:12.246167800Z",
     "start_time": "2023-12-12T22:38:12.180138800Z"
    }
   },
   "id": "97fe91c4fde6ef63"
  },
  {
   "cell_type": "code",
   "execution_count": 17,
   "outputs": [
    {
     "data": {
      "text/plain": "[<matplotlib.lines.Line2D at 0x2ab0009e550>]"
     },
     "execution_count": 17,
     "metadata": {},
     "output_type": "execute_result"
    },
    {
     "data": {
      "text/plain": "<Figure size 640x480 with 1 Axes>",
      "image/png": "[encoded data removed]"
     },
     "metadata": {},
     "output_type": "display_data"
    }
   ],
   "source": [
    "accuracy_epochs = pd.read_csv('simplernn_accuracy.csv')\n",
    "\n",
    "plt.plot(accuracy_epochs['epoch'], accuracy_epochs['accuracy'])"
   ],
   "metadata": {
    "collapsed": false,
    "ExecuteTime": {
     "end_time": "2023-12-12T22:59:27.796002Z",
     "start_time": "2023-12-12T22:59:27.695076700Z"
    }
   },
   "id": "7c270685731ecc58"
  },
  {
   "cell_type": "code",
   "execution_count": 5,
   "outputs": [
    {
     "name": "stdout",
     "output_type": "stream",
     "text": [
      "Model: \"sequential_16\"\n",
      "_________________________________________________________________\n",
      " Layer (type)                Output Shape              Param #   \n",
      "=================================================================\n",
      " embedding_6 (Embedding)     (None, 200, 100)          1000000   \n",
      "                                                                 \n",
      " simple_rnn_14 (SimpleRNN)   (None, 256)               91392     \n",
      "                                                                 \n",
      " dense_15 (Dense)            (None, 1)                 257       \n",
      "                                                                 \n",
      "=================================================================\n",
      "Total params: 1091649 (4.16 MB)\n",
      "Trainable params: 1091649 (4.16 MB)\n",
      "Non-trainable params: 0 (0.00 Byte)\n",
      "_________________________________________________________________\n"
     ]
    }
   ],
   "source": [
    "simpleRNN = tf.keras.models.load_model('simpleRNN.keras')\n",
    "\n",
    "simpleRNN.summary()"
   ],
   "metadata": {
    "collapsed": false,
    "ExecuteTime": {
     "end_time": "2023-12-12T21:34:28.620080500Z",
     "start_time": "2023-12-12T21:34:28.278088500Z"
    }
   },
   "id": "6f92ef65245f684c"
  },
  {
   "cell_type": "code",
   "execution_count": 16,
   "outputs": [
    {
     "name": "stdout",
     "output_type": "stream",
     "text": [
      "782/782 [==============================] - 11s 14ms/step\n"
     ]
    }
   ],
   "source": [
    "# make predictions and calculate accuracy\n",
    "\n",
    "y_pred = simpleRNN.predict(x_test)\n",
    "y_pred = np.round(y_pred)\n",
    "\n",
    "accuracy = accuracy_score(y_test, y_pred)"
   ],
   "metadata": {
    "collapsed": false,
    "ExecuteTime": {
     "end_time": "2023-12-12T10:35:20.196381200Z",
     "start_time": "2023-12-12T10:35:08.894344500Z"
    }
   },
   "id": "842d99705f3300cb"
  },
  {
   "cell_type": "code",
   "execution_count": 18,
   "outputs": [
    {
     "data": {
      "text/plain": "0.71312"
     },
     "execution_count": 18,
     "metadata": {},
     "output_type": "execute_result"
    }
   ],
   "source": [
    "accuracy"
   ],
   "metadata": {
    "collapsed": false,
    "ExecuteTime": {
     "end_time": "2023-12-12T23:06:07.401283400Z",
     "start_time": "2023-12-12T23:06:07.384096900Z"
    }
   },
   "id": "ec0f3e5ea6f1d196"
  },
  {
   "cell_type": "markdown",
   "source": [
    "## The Need for Attention Mechanism\n",
    "\n",
    "The problem with basic RNNs is that they are not very good at handling long sequences. \n",
    "\n",
    "Even when using more epochs, the accuracy of the model does not improve much. This is because the model is not able to learn the long-term dependencies in the data.\n",
    "\n",
    "This is known as the vanishing gradient problem."
   ],
   "metadata": {
    "collapsed": false
   },
   "id": "aa90419af88e83fc"
  },
  {
   "cell_type": "markdown",
   "source": [
    "### Vanishing Gradient Problem\n",
    "\n",
    "The vanishing gradient problem occurs when the gradients of the loss function become increasingly smaller as the model learns to associate inputs and outputs that are further apart in time.\n",
    "\n",
    "This leads to the model \"forgetting\" the information from the earlier inputs, which makes it difficult to learn long-term dependencies.\n",
    "\n",
    "![Simple RNN](https://raw.githubusercontent.com/ChaosTheLegend/ML-Book/main/Images/SimpleRNN.png)"
   ],
   "metadata": {
    "collapsed": false
   },
   "id": "3fabaa35bffd3e95"
  },
  {
   "cell_type": "markdown",
   "source": [
    "### Math Behind Vanishing Gradient Problem\n",
    "\n",
    "The vanishing gradient problem occurs because of the way gradients are computed in RNNs:\n",
    "\n",
    "$$\n",
    "\\frac{\\partial L}{\\partial W} = \\frac{\\partial L}{\\partial y} \\frac{\\partial y}{\\partial h} \\frac{\\partial h}{\\partial W}\n",
    "$$\n",
    "\n",
    "The gradient is computed by multiplying the gradients of the loss function with respect to the output, the output with respect to the hidden state, and the hidden state with respect to the weights.\n",
    "\n",
    "Since gradients are multiplied together, if the gradients at each time step are less than 1 (e.g., due to using activation functions like sigmoid or tanh), this multiplication leads to a compounding effect. As you go further back in time, the gradients become increasingly smaller.\n",
    "\n",
    "\n",
    "![Simple RNN](https://raw.githubusercontent.com/ChaosTheLegend/ML-Book/main/Images/SimpleRNNProblem.png)"
   ],
   "metadata": {
    "collapsed": false
   },
   "id": "f966d89f01fb6e0d"
  },
  {
   "cell_type": "markdown",
   "source": [
    "## Attention Mechanism\n",
    "\n",
    "To combat the vanishing gradient problem, we can use an attention mechanism.\n",
    "\n",
    "An attention mechanism is a way to help RNNs learn long-term dependencies by allowing the model to focus on the most relevant parts of the input sequence when producing a given output.\n",
    "\n",
    "We do this by adding a context vector to the model, which is a weighted sum of the encoder's hidden states. The weights are computed using an alignment score function, which measures how well the inputs around a given position and the output at that position match.\n",
    "\n",
    "![Attention Mechanism](https://raw.githubusercontent.com/ChaosTheLegend/ML-Book/main/Images/Attention.png)"
   ],
   "metadata": {
    "collapsed": false
   },
   "id": "33edbcad9a58f381"
  },
  {
   "cell_type": "code",
   "execution_count": 35,
   "outputs": [],
   "source": [
    "from keras.layers import Input, Embedding, LSTM, Dense, Attention, Bidirectional, Dropout\n",
    "import os\n",
    "\n",
    "#check if there is a model file in the current directory\n",
    "\n",
    "# if not, train a new model and save it\n",
    "\n",
    "# if there is, load the model from the file\n",
    "\n",
    "train_new_model = True\n",
    "\n",
    "if('LSTM.keras' in os.listdir()):\n",
    "    LSTM = tf.keras.models.load_model('LSTM.keras')\n",
    "    train_new_model = False\n"
   ],
   "metadata": {
    "collapsed": false,
    "ExecuteTime": {
     "end_time": "2023-12-12T11:06:24.570512800Z",
     "start_time": "2023-12-12T11:06:23.781832700Z"
    }
   },
   "id": "c7560374b7b1af52"
  },
  {
   "cell_type": "code",
   "execution_count": null,
   "outputs": [],
   "source": [
    "if train_new_model:    \n",
    "    inputs = Input(shape=(max_len,))\n",
    "    embedding = Embedding(input_dim=10000, output_dim=embedding_dim, input_length=max_len)(inputs)\n",
    "    lstm = Bidirectional(LSTM(hidden_dim, return_sequences=True))(embedding)\n",
    "    attention = Attention()([lstm, lstm])\n",
    "    context = tf.reduce_sum(attention * lstm, axis=1)\n",
    "    dropout = Dropout(dropout_rate)(context)\n",
    "    output = Dense(output_dim, activation='sigmoid')(dropout)\n",
    "\n",
    "\n",
    "    LSTM = tf.keras.Model(inputs=inputs, outputs=output)\n",
    "\n",
    "    LSTM.compile(optimizer='adam', loss='binary_crossentropy', metrics=['accuracy'])"
   ],
   "metadata": {
    "collapsed": false
   },
   "id": "e93e86a83ee44f21"
  },
  {
   "cell_type": "code",
   "execution_count": 62,
   "outputs": [
    {
     "name": "stdout",
     "output_type": "stream",
     "text": [
      "Model: \"model\"\n",
      "__________________________________________________________________________________________________\n",
      " Layer (type)                Output Shape                 Param #   Connected to                  \n",
      "==================================================================================================\n",
      " input_1 (InputLayer)        [(None, 200)]                0         []                            \n",
      "                                                                                                  \n",
      " embedding_5 (Embedding)     (None, 200, 100)             1000000   ['input_1[0][0]']             \n",
      "                                                                                                  \n",
      " bidirectional (Bidirection  (None, 200, 512)             731136    ['embedding_5[0][0]']         \n",
      " al)                                                                                              \n",
      "                                                                                                  \n",
      " attention (Attention)       (None, 200, 512)             0         ['bidirectional[0][0]',       \n",
      "                                                                     'bidirectional[0][0]']       \n",
      "                                                                                                  \n",
      " tf.math.multiply (TFOpLamb  (None, 200, 512)             0         ['attention[0][0]',           \n",
      " da)                                                                 'bidirectional[0][0]']       \n",
      "                                                                                                  \n",
      " tf.math.reduce_sum (TFOpLa  (None, 512)                  0         ['tf.math.multiply[0][0]']    \n",
      " mbda)                                                                                            \n",
      "                                                                                                  \n",
      " dropout (Dropout)           (None, 512)                  0         ['tf.math.reduce_sum[0][0]']  \n",
      "                                                                                                  \n",
      " dense_14 (Dense)            (None, 1)                    513       ['dropout[0][0]']             \n",
      "                                                                                                  \n",
      "==================================================================================================\n",
      "Total params: 1731649 (6.61 MB)\n",
      "Trainable params: 1731649 (6.61 MB)\n",
      "Non-trainable params: 0 (0.00 Byte)\n",
      "__________________________________________________________________________________________________\n"
     ]
    }
   ],
   "source": [
    "LSTM.summary()"
   ],
   "metadata": {
    "collapsed": false,
    "ExecuteTime": {
     "end_time": "2023-12-11T21:56:48.496227600Z",
     "start_time": "2023-12-11T21:56:48.484282Z"
    }
   },
   "id": "895c1aa46230705d"
  },
  {
   "cell_type": "code",
   "execution_count": 64,
   "outputs": [
    {
     "name": "stdout",
     "output_type": "stream",
     "text": [
      "Epoch 1/5\n",
      "157/157 [==============================] - 500s 3s/step - loss: 0.3923 - accuracy: 0.8305 - val_loss: 0.3380 - val_accuracy: 0.8576\n",
      "Epoch 2/5\n",
      "157/157 [==============================] - 384s 2s/step - loss: 0.2301 - accuracy: 0.9102 - val_loss: 0.3628 - val_accuracy: 0.8676\n",
      "Epoch 3/5\n",
      "157/157 [==============================] - 402s 3s/step - loss: 0.1718 - accuracy: 0.9337 - val_loss: 0.3564 - val_accuracy: 0.8626\n",
      "Epoch 4/5\n",
      "157/157 [==============================] - 401s 3s/step - loss: 0.1479 - accuracy: 0.9424 - val_loss: 0.4766 - val_accuracy: 0.8486\n",
      "Epoch 5/5\n",
      "157/157 [==============================] - 400s 3s/step - loss: 0.1057 - accuracy: 0.9574 - val_loss: 0.5865 - val_accuracy: 0.8534\n"
     ]
    },
    {
     "data": {
      "text/plain": "<keras.src.callbacks.History at 0x19c27f14ed0>"
     },
     "execution_count": 64,
     "metadata": {},
     "output_type": "execute_result"
    }
   ],
   "source": [
    "if train_new_model:\n",
    "    LSTM.fit(x_train, y_train, epochs=5, batch_size=128, validation_split=0.2)"
   ],
   "metadata": {
    "collapsed": false,
    "ExecuteTime": {
     "end_time": "2023-12-11T22:34:29.111314700Z",
     "start_time": "2023-12-11T21:59:41.706750700Z"
    }
   },
   "id": "3ef426df8cc064eb"
  },
  {
   "cell_type": "code",
   "execution_count": 66,
   "outputs": [],
   "source": [
    "LSTM.save('LSTM.keras')"
   ],
   "metadata": {
    "collapsed": false,
    "ExecuteTime": {
     "end_time": "2023-12-11T22:37:38.677198700Z",
     "start_time": "2023-12-11T22:37:38.582200700Z"
    }
   },
   "id": "fc0d79e674fa5aa8"
  },
  {
   "cell_type": "code",
   "execution_count": 86,
   "outputs": [
    {
     "name": "stdout",
     "output_type": "stream",
     "text": [
      "782/782 [==============================] - 108s 139ms/step\n"
     ]
    },
    {
     "data": {
      "text/plain": "0.82268"
     },
     "execution_count": 86,
     "metadata": {},
     "output_type": "execute_result"
    }
   ],
   "source": [
    "y_pred = LSTM.predict(x_test)\n",
    "\n",
    "y_pred = np.round(y_pred)\n",
    "\n",
    "accuracy = accuracy_score(y_test, y_pred)\n",
    "\n",
    "accuracy"
   ],
   "metadata": {
    "collapsed": false,
    "ExecuteTime": {
     "end_time": "2023-12-11T22:50:32.830461400Z",
     "start_time": "2023-12-11T22:48:44.269112400Z"
    }
   },
   "id": "12810a1b15b14a24"
  },
  {
   "cell_type": "code",
   "execution_count": 36,
   "outputs": [
    {
     "name": "stdout",
     "output_type": "stream",
     "text": [
      "Model: \"model\"\n",
      "__________________________________________________________________________________________________\n",
      " Layer (type)                Output Shape                 Param #   Connected to                  \n",
      "==================================================================================================\n",
      " input_1 (InputLayer)        [(None, 200)]                0         []                            \n",
      "                                                                                                  \n",
      " embedding_5 (Embedding)     (None, 200, 100)             1000000   ['input_1[0][0]']             \n",
      "                                                                                                  \n",
      " bidirectional (Bidirection  (None, 200, 512)             731136    ['embedding_5[0][0]']         \n",
      " al)                                                                                              \n",
      "                                                                                                  \n",
      " attention (Attention)       (None, 200, 512)             0         ['bidirectional[0][0]',       \n",
      "                                                                     'bidirectional[0][0]']       \n",
      "                                                                                                  \n",
      " tf.math.multiply (TFOpLamb  (None, 200, 512)             0         ['attention[0][0]',           \n",
      " da)                                                                 'bidirectional[0][0]']       \n",
      "                                                                                                  \n",
      " tf.math.reduce_sum (TFOpLa  (None, 512)                  0         ['tf.math.multiply[0][0]']    \n",
      " mbda)                                                                                            \n",
      "                                                                                                  \n",
      " dropout (Dropout)           (None, 512)                  0         ['tf.math.reduce_sum[0][0]']  \n",
      "                                                                                                  \n",
      " dense_14 (Dense)            (None, 1)                    513       ['dropout[0][0]']             \n",
      "                                                                                                  \n",
      "==================================================================================================\n",
      "Total params: 1731649 (6.61 MB)\n",
      "Trainable params: 1731649 (6.61 MB)\n",
      "Non-trainable params: 0 (0.00 Byte)\n",
      "__________________________________________________________________________________________________\n"
     ]
    }
   ],
   "source": [
    "LSTM.summary()"
   ],
   "metadata": {
    "collapsed": false,
    "ExecuteTime": {
     "end_time": "2023-12-12T11:10:21.326069800Z",
     "start_time": "2023-12-12T11:10:21.307834800Z"
    }
   },
   "id": "ec123351b8ac3c8b"
  },
  {
   "cell_type": "markdown",
   "source": [
    "## Alignment Scores in RNN Attention Mechanism\n",
    "\n",
    "The attention mechanism in a recurrent neural network (RNN) uses alignment scores to determine how much focus to place on each input in a sequence.\n",
    "\n",
    "In the context of sequence-to-sequence models, for example, if we have an encoded input sequence, an alignment score is computed for each pair of input and output positions. If \"a\" is the decoder’s hidden state and \"b\" is all of the encoder’s hidden states, the alignment score function often takes the following form:\n",
    "\n",
    "$$\n",
    "\\text{score}(a, b) = a^Tb\n",
    "$$\n",
    "\n",
    "This score indicates how well the inputs around position \"b\" and the output at position \"a\" match. The alignment scores for each input \"b\" are combined into a single vector and normalized to sum to 1, resulting in the attention weights. These weights determine the amount of 'attention' given by the model to each input timestep while producing an output. \n",
    "\n",
    "Higher alignment scores mean that the decoder pays more attention to those parts of the encoder's output.\n",
    "\n",
    "Overall, the attention mechanism improves the accuracy of the RNN model when handling tasks with long input sequences, by enabling it to focus on the most relevant parts of the input to produce a given output."
   ],
   "metadata": {
    "collapsed": false
   },
   "id": "e761261244e15d12"
  },
  {
   "cell_type": "markdown",
   "source": [
    "## From Alignment Scores to Attention Weights\n",
    "\n",
    "After computing the alignment scores between the input and output vectors in the attention mechanism, these scores are then converted to attention weights using the softmax function.\n",
    "\n",
    "The softmax function is commonly used in neural networks to turn scores into probabilities. It is defined as:\n",
    "\n",
    "$$\n",
    "\\text{softmax}(x_i) = \\frac{\\exp(x_i)}{\\sum_j \\exp(x_j)}\n",
    "$$\n",
    "\n",
    "By applying softmax, we ensure that each weight falls in the range [0, 1] and that they all sum to 1, which allows us to interpret the attention weights as probabilities.\n",
    "\n",
    "In the context of attention mechanisms, the softmax function is applied to the alignment scores for each input and output pair, resulting in attention weights. Therefore, each input element in a sequence gets an attention weight. Now the model knows how much attention it needs to pay to each element when encoding information.\n",
    "\n",
    "For a given output, positions in the input sequence with a higher attention weight have a greater influence on the computation. This means our decoder will \"pay more attention\" to these positions during the encoding of the sequence."
   ],
   "metadata": {
    "collapsed": false
   },
   "id": "6f59370463267f6d"
  }
 ],
 "metadata": {
  "kernelspec": {
   "display_name": "Python 3",
   "language": "python",
   "name": "python3"
  },
  "language_info": {
   "codemirror_mode": {
    "name": "ipython",
    "version": 2
   },
   "file_extension": ".py",
   "mimetype": "text/x-python",
   "name": "python",
   "nbconvert_exporter": "python",
   "pygments_lexer": "ipython2",
   "version": "2.7.6"
  }
 },
 "nbformat": 4,
 "nbformat_minor": 5
}
