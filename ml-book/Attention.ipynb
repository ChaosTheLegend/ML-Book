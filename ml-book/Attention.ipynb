{
 "cells": [
  {
   "cell_type": "markdown",
   "source": [
    "# RNN recap\n",
    "\n",
    "In a basic RNN, each recurrent neuron receives inputs from all neurons from the previous time step, as well as the inputs from the current time step, hence the term 'recurrent'."
   ],
   "metadata": {
    "collapsed": false
   },
   "id": "5ffcb30cf3fce291"
  },
  {
   "cell_type": "code",
   "execution_count": 1,
   "outputs": [],
   "source": [
    "### This cell should be hidden in the final version\n",
    "\n",
    "import tensorflow as tf\n",
    "import numpy as np\n",
    "import pandas as pd\n",
    "from matplotlib import pyplot as plt\n",
    "from keras.src.utils import pad_sequences\n",
    "from jupyterquiz import display_quiz\n",
    "from sklearn.metrics import accuracy_score\n",
    "from keras.datasets import imdb\n",
    "\n",
    "\n",
    "git_path=\"https://raw.githubusercontent.com/ChaosTheLegend/ML-Book/main/Quizes/\"\n",
    "\n",
    "(x_train, y_train), (x_test, y_test) = tf.keras.datasets.imdb.load_data(num_words=10000)\n",
    "\n",
    "max_len = 200\n",
    "x_train = pad_sequences(x_train, maxlen=max_len, truncating='post')\n",
    "x_test = pad_sequences(x_test, maxlen=max_len, truncating='post')\n",
    "num_words = 10000\n",
    "\n",
    "embedding_dim = 100\n",
    "hidden_dim = 256\n",
    "output_dim = 1\n",
    "dropout_rate = 0.5"
   ],
   "metadata": {
    "collapsed": false,
    "ExecuteTime": {
     "end_time": "2023-12-12T21:33:00.308018700Z",
     "start_time": "2023-12-12T21:32:51.162767800Z"
    }
   },
   "id": "66e05d8454aad315"
  },
  {
   "cell_type": "code",
   "execution_count": 8,
   "outputs": [],
   "source": [
    "model = tf.keras.Sequential([\n",
    "    tf.keras.layers.Embedding(input_dim=num_words, output_dim=embedding_dim, input_length=max_len),\n",
    "    tf.keras.layers.SimpleRNN(hidden_dim),\n",
    "    tf.keras.layers.Dense(output_dim, activation='sigmoid')\n",
    "])\n",
    "\n",
    "model.compile(optimizer='adam', loss='binary_crossentropy', metrics=['accuracy'])"
   ],
   "metadata": {
    "collapsed": false,
    "ExecuteTime": {
     "end_time": "2023-12-12T21:58:16.470409500Z",
     "start_time": "2023-12-12T21:58:16.405859900Z"
    }
   },
   "id": "97fe91c4fde6ef63"
  },
  {
   "cell_type": "code",
   "execution_count": null,
   "outputs": [
    {
     "name": "stdout",
     "output_type": "stream",
     "text": [
      "40/40 [==============================] - 13s 305ms/step - loss: 0.6795 - accuracy: 0.5638 - val_loss: 0.6885 - val_accuracy: 0.5344\n",
      "782/782 [==============================] - 13s 16ms/step\n",
      "40/40 [==============================] - 12s 312ms/step - loss: 0.6328 - accuracy: 0.6560 - val_loss: 0.6994 - val_accuracy: 0.5348\n",
      "782/782 [==============================] - 12s 16ms/step\n",
      "40/40 [==============================] - 12s 309ms/step - loss: 0.6039 - accuracy: 0.6951 - val_loss: 0.6815 - val_accuracy: 0.5380\n",
      "782/782 [==============================] - 12s 16ms/step\n",
      "40/40 [==============================] - 12s 301ms/step - loss: 0.6546 - accuracy: 0.6177 - val_loss: 0.7008 - val_accuracy: 0.5154\n",
      "782/782 [==============================] - 12s 16ms/step\n",
      "40/40 [==============================] - 12s 290ms/step - loss: 0.6491 - accuracy: 0.6296 - val_loss: 0.6839 - val_accuracy: 0.5516\n",
      "782/782 [==============================] - 12s 15ms/step\n",
      "40/40 [==============================] - 11s 282ms/step - loss: 0.6279 - accuracy: 0.6678 - val_loss: 0.6810 - val_accuracy: 0.5460\n",
      "782/782 [==============================] - 12s 15ms/step\n",
      "40/40 [==============================] - 11s 285ms/step - loss: 0.6183 - accuracy: 0.6622 - val_loss: 0.6841 - val_accuracy: 0.5446\n",
      "782/782 [==============================] - 12s 16ms/step\n",
      "40/40 [==============================] - 12s 296ms/step - loss: 0.6067 - accuracy: 0.6751 - val_loss: 0.6835 - val_accuracy: 0.5502\n",
      "782/782 [==============================] - 12s 15ms/step\n",
      "40/40 [==============================] - 12s 296ms/step - loss: 0.5728 - accuracy: 0.6941 - val_loss: 0.7060 - val_accuracy: 0.5584\n",
      "782/782 [==============================] - 12s 15ms/step\n",
      "40/40 [==============================] - 12s 295ms/step - loss: 0.5437 - accuracy: 0.7114 - val_loss: 0.7274 - val_accuracy: 0.5626\n",
      "782/782 [==============================] - 12s 15ms/step\n",
      "40/40 [==============================] - 11s 283ms/step - loss: 0.5110 - accuracy: 0.7345 - val_loss: 0.7467 - val_accuracy: 0.5672\n",
      "782/782 [==============================] - 12s 15ms/step\n",
      "40/40 [==============================] - 12s 290ms/step - loss: 0.4715 - accuracy: 0.7656 - val_loss: 0.7759 - val_accuracy: 0.5718\n",
      "782/782 [==============================] - 12s 15ms/step\n",
      "40/40 [==============================] - 11s 285ms/step - loss: 0.4265 - accuracy: 0.7976 - val_loss: 0.7988 - val_accuracy: 0.5866\n",
      "782/782 [==============================] - 12s 15ms/step\n",
      "40/40 [==============================] - 12s 289ms/step - loss: 0.3750 - accuracy: 0.8336 - val_loss: 0.8519 - val_accuracy: 0.5932\n",
      "782/782 [==============================] - 13s 16ms/step\n",
      "40/40 [==============================] - 12s 296ms/step - loss: 0.3240 - accuracy: 0.8604 - val_loss: 0.8839 - val_accuracy: 0.5912\n",
      "782/782 [==============================] - 12s 15ms/step\n",
      "40/40 [==============================] - 13s 314ms/step - loss: 0.2665 - accuracy: 0.8925 - val_loss: 0.9749 - val_accuracy: 0.5958\n",
      "782/782 [==============================] - 12s 16ms/step\n",
      "40/40 [==============================] - 12s 312ms/step - loss: 0.2248 - accuracy: 0.9105 - val_loss: 1.0124 - val_accuracy: 0.6036\n",
      "782/782 [==============================] - 13s 16ms/step\n",
      "40/40 [==============================] - 12s 296ms/step - loss: 0.1753 - accuracy: 0.9364 - val_loss: 1.0824 - val_accuracy: 0.6098\n",
      "782/782 [==============================] - 13s 17ms/step\n",
      "40/40 [==============================] - 12s 305ms/step - loss: 0.1427 - accuracy: 0.9513 - val_loss: 1.1622 - val_accuracy: 0.6116\n",
      "782/782 [==============================] - 12s 16ms/step\n",
      "40/40 [==============================] - 12s 306ms/step - loss: 0.1089 - accuracy: 0.9661 - val_loss: 1.2312 - val_accuracy: 0.6206\n",
      "782/782 [==============================] - 12s 16ms/step\n",
      "40/40 [==============================] - 12s 290ms/step - loss: 0.0918 - accuracy: 0.9731 - val_loss: 1.3423 - val_accuracy: 0.6114\n",
      "782/782 [==============================] - 12s 16ms/step\n",
      "40/40 [==============================] - 12s 306ms/step - loss: 0.0697 - accuracy: 0.9796 - val_loss: 1.4272 - val_accuracy: 0.6100\n",
      "782/782 [==============================] - 12s 15ms/step\n",
      "40/40 [==============================] - 11s 283ms/step - loss: 0.0622 - accuracy: 0.9829 - val_loss: 1.4695 - val_accuracy: 0.6218\n",
      "782/782 [==============================] - 12s 15ms/step\n",
      "40/40 [==============================] - 11s 284ms/step - loss: 0.0543 - accuracy: 0.9843 - val_loss: 1.4401 - val_accuracy: 0.6216\n",
      "782/782 [==============================] - 12s 15ms/step\n",
      "40/40 [==============================] - 11s 285ms/step - loss: 0.0409 - accuracy: 0.9902 - val_loss: 1.5246 - val_accuracy: 0.6296\n",
      "782/782 [==============================] - 12s 15ms/step\n",
      "40/40 [==============================] - 11s 274ms/step - loss: 0.0307 - accuracy: 0.9928 - val_loss: 1.6594 - val_accuracy: 0.6158\n",
      "782/782 [==============================] - 12s 16ms/step\n",
      "40/40 [==============================] - 12s 297ms/step - loss: 0.0471 - accuracy: 0.9848 - val_loss: 1.5303 - val_accuracy: 0.6128\n",
      "782/782 [==============================] - 12s 16ms/step\n",
      "40/40 [==============================] - 11s 286ms/step - loss: 0.0430 - accuracy: 0.9874 - val_loss: 1.5973 - val_accuracy: 0.6292\n",
      "782/782 [==============================] - 12s 16ms/step\n",
      "40/40 [==============================] - 12s 296ms/step - loss: 0.0217 - accuracy: 0.9949 - val_loss: 1.6622 - val_accuracy: 0.6284\n",
      "782/782 [==============================] - 12s 16ms/step\n",
      "40/40 [==============================] - 12s 299ms/step - loss: 0.0127 - accuracy: 0.9983 - val_loss: 1.6374 - val_accuracy: 0.6460\n",
      "782/782 [==============================] - 13s 16ms/step\n",
      "40/40 [==============================] - 12s 290ms/step - loss: 0.0087 - accuracy: 0.9991 - val_loss: 1.7279 - val_accuracy: 0.6392\n",
      "782/782 [==============================] - 13s 16ms/step\n",
      "40/40 [==============================] - 12s 290ms/step - loss: 0.0177 - accuracy: 0.9964 - val_loss: 1.7621 - val_accuracy: 0.6262\n",
      "782/782 [==============================] - 13s 16ms/step\n",
      "40/40 [==============================] - 11s 286ms/step - loss: 0.0254 - accuracy: 0.9936 - val_loss: 1.6415 - val_accuracy: 0.6464\n",
      "782/782 [==============================] - 12s 16ms/step\n",
      "40/40 [==============================] - 11s 286ms/step - loss: 0.0211 - accuracy: 0.9938 - val_loss: 2.0355 - val_accuracy: 0.5768\n",
      "782/782 [==============================] - 12s 16ms/step\n",
      "40/40 [==============================] - 12s 294ms/step - loss: 0.1305 - accuracy: 0.9498 - val_loss: 1.5412 - val_accuracy: 0.6254\n",
      "782/782 [==============================] - 13s 16ms/step\n",
      "40/40 [==============================] - 12s 289ms/step - loss: 0.0219 - accuracy: 0.9945 - val_loss: 1.4702 - val_accuracy: 0.6566\n",
      "782/782 [==============================] - 12s 15ms/step\n",
      "40/40 [==============================] - 12s 291ms/step - loss: 0.0810 - accuracy: 0.9717 - val_loss: 1.5955 - val_accuracy: 0.6350\n",
      "782/782 [==============================] - 12s 16ms/step\n",
      "40/40 [==============================] - 12s 290ms/step - loss: 0.0224 - accuracy: 0.9944 - val_loss: 1.5746 - val_accuracy: 0.6452\n",
      "782/782 [==============================] - 12s 16ms/step\n",
      "40/40 [==============================] - 12s 296ms/step - loss: 0.0117 - accuracy: 0.9984 - val_loss: 1.6931 - val_accuracy: 0.6402\n",
      "782/782 [==============================] - 13s 16ms/step\n",
      "40/40 [==============================] - 12s 306ms/step - loss: 0.0064 - accuracy: 0.9992 - val_loss: 1.8256 - val_accuracy: 0.6328\n",
      "782/782 [==============================] - 12s 16ms/step\n",
      "40/40 [==============================] - 12s 293ms/step - loss: 0.0046 - accuracy: 0.9995 - val_loss: 1.8497 - val_accuracy: 0.6400\n",
      "782/782 [==============================] - 12s 16ms/step\n",
      "40/40 [==============================] - 11s 287ms/step - loss: 0.0096 - accuracy: 0.9983 - val_loss: 1.8035 - val_accuracy: 0.6444\n",
      "782/782 [==============================] - 12s 16ms/step\n",
      "40/40 [==============================] - 12s 294ms/step - loss: 0.0291 - accuracy: 0.9919 - val_loss: 1.7138 - val_accuracy: 0.6444\n",
      "782/782 [==============================] - 13s 16ms/step\n",
      "40/40 [==============================] - 12s 300ms/step - loss: 0.0054 - accuracy: 0.9995 - val_loss: 1.7172 - val_accuracy: 0.6564\n",
      "782/782 [==============================] - 13s 16ms/step\n",
      "40/40 [==============================] - 12s 293ms/step - loss: 0.0061 - accuracy: 0.9990 - val_loss: 1.8611 - val_accuracy: 0.6470\n",
      "782/782 [==============================] - 12s 16ms/step\n",
      "40/40 [==============================] - 12s 293ms/step - loss: 0.0034 - accuracy: 0.9998 - val_loss: 2.0309 - val_accuracy: 0.6258\n",
      "782/782 [==============================] - 12s 16ms/step\n",
      "36/40 [==========================>...] - ETA: 1s - loss: 0.0023 - accuracy: 0.9999"
     ]
    }
   ],
   "source": [
    "    #traib model for 10 epochs and save accuracy on each one\n",
    "\n",
    "accuracy_epochs = []\n",
    "\n",
    "for i in range(100):\n",
    "        break\n",
    "        model.fit(x_train, y_train, epochs=1, batch_size=512, validation_split=0.2)\n",
    "        y_pred = model.predict(x_test)\n",
    "        y_pred = np.round(y_pred)\n",
    "        accuracy = accuracy_score(y_test, y_pred)\n",
    "        accuracy_epochs.append(accuracy)"
   ],
   "metadata": {
    "collapsed": false,
    "is_executing": true,
    "ExecuteTime": {
     "start_time": "2023-12-12T21:58:34.616919100Z"
    }
   },
   "id": "fc0ad0c9a6a30d15"
  },
  {
   "cell_type": "code",
   "execution_count": 3,
   "outputs": [
    {
     "data": {
      "text/plain": "   Unnamed: 0  accuracy  epoch\n0           0   0.55628      1\n1           1   0.55212      2\n2           2   0.56592      3\n3           3   0.55608      4\n4           4   0.58336      5\n5           5   0.59588      6\n6           6   0.61284      7\n7           7   0.66644      8\n8           8   0.67948      9\n9           9   0.67460     10",
      "text/html": "<div>\n<style scoped>\n    .dataframe tbody tr th:only-of-type {\n        vertical-align: middle;\n    }\n\n    .dataframe tbody tr th {\n        vertical-align: top;\n    }\n\n    .dataframe thead th {\n        text-align: right;\n    }\n</style>\n<table border=\"1\" class=\"dataframe\">\n  <thead>\n    <tr style=\"text-align: right;\">\n      <th></th>\n      <th>Unnamed: 0</th>\n      <th>accuracy</th>\n      <th>epoch</th>\n    </tr>\n  </thead>\n  <tbody>\n    <tr>\n      <th>0</th>\n      <td>0</td>\n      <td>0.55628</td>\n      <td>1</td>\n    </tr>\n    <tr>\n      <th>1</th>\n      <td>1</td>\n      <td>0.55212</td>\n      <td>2</td>\n    </tr>\n    <tr>\n      <th>2</th>\n      <td>2</td>\n      <td>0.56592</td>\n      <td>3</td>\n    </tr>\n    <tr>\n      <th>3</th>\n      <td>3</td>\n      <td>0.55608</td>\n      <td>4</td>\n    </tr>\n    <tr>\n      <th>4</th>\n      <td>4</td>\n      <td>0.58336</td>\n      <td>5</td>\n    </tr>\n    <tr>\n      <th>5</th>\n      <td>5</td>\n      <td>0.59588</td>\n      <td>6</td>\n    </tr>\n    <tr>\n      <th>6</th>\n      <td>6</td>\n      <td>0.61284</td>\n      <td>7</td>\n    </tr>\n    <tr>\n      <th>7</th>\n      <td>7</td>\n      <td>0.66644</td>\n      <td>8</td>\n    </tr>\n    <tr>\n      <th>8</th>\n      <td>8</td>\n      <td>0.67948</td>\n      <td>9</td>\n    </tr>\n    <tr>\n      <th>9</th>\n      <td>9</td>\n      <td>0.67460</td>\n      <td>10</td>\n    </tr>\n  </tbody>\n</table>\n</div>"
     },
     "execution_count": 3,
     "metadata": {},
     "output_type": "execute_result"
    }
   ],
   "source": [
    "# read the accuracy from the csv file\n",
    "\n",
    "accuracy_epochs = pd.read_csv('simplernn_accuracy.csv')\n",
    "\n",
    "accuracy_epochs"
   ],
   "metadata": {
    "collapsed": false,
    "ExecuteTime": {
     "end_time": "2023-12-12T21:34:20.695474600Z",
     "start_time": "2023-12-12T21:34:20.666227300Z"
    }
   },
   "id": "85ce64b7f7e1f19a"
  },
  {
   "cell_type": "code",
   "execution_count": 4,
   "outputs": [
    {
     "data": {
      "text/plain": "[<matplotlib.lines.Line2D at 0x2ab46f11250>]"
     },
     "execution_count": 4,
     "metadata": {},
     "output_type": "execute_result"
    },
    {
     "data": {
      "text/plain": "<Figure size 640x480 with 1 Axes>",
      "image/png": "[encoded data removed]"
     },
     "metadata": {},
     "output_type": "display_data"
    }
   ],
   "source": [
    "# plot the accuracy vs epoch number\n",
    "# set scale from 0.4 to 1\n",
    "\n",
    "plt.plot(accuracy_epochs['epoch'], accuracy_epochs['accuracy'])"
   ],
   "metadata": {
    "collapsed": false,
    "ExecuteTime": {
     "end_time": "2023-12-12T21:34:22.943128900Z",
     "start_time": "2023-12-12T21:34:22.785868700Z"
    }
   },
   "id": "7c270685731ecc58"
  },
  {
   "cell_type": "code",
   "execution_count": 5,
   "outputs": [
    {
     "name": "stdout",
     "output_type": "stream",
     "text": [
      "Model: \"sequential_16\"\n",
      "_________________________________________________________________\n",
      " Layer (type)                Output Shape              Param #   \n",
      "=================================================================\n",
      " embedding_6 (Embedding)     (None, 200, 100)          1000000   \n",
      "                                                                 \n",
      " simple_rnn_14 (SimpleRNN)   (None, 256)               91392     \n",
      "                                                                 \n",
      " dense_15 (Dense)            (None, 1)                 257       \n",
      "                                                                 \n",
      "=================================================================\n",
      "Total params: 1091649 (4.16 MB)\n",
      "Trainable params: 1091649 (4.16 MB)\n",
      "Non-trainable params: 0 (0.00 Byte)\n",
      "_________________________________________________________________\n"
     ]
    }
   ],
   "source": [
    "simpleRNN = tf.keras.models.load_model('simpleRNN.keras')\n",
    "\n",
    "simpleRNN.summary()"
   ],
   "metadata": {
    "collapsed": false,
    "ExecuteTime": {
     "end_time": "2023-12-12T21:34:28.620080500Z",
     "start_time": "2023-12-12T21:34:28.278088500Z"
    }
   },
   "id": "6f92ef65245f684c"
  },
  {
   "cell_type": "code",
   "execution_count": 16,
   "outputs": [
    {
     "name": "stdout",
     "output_type": "stream",
     "text": [
      "782/782 [==============================] - 11s 14ms/step\n"
     ]
    }
   ],
   "source": [
    "# make predictions and calculate accuracy\n",
    "\n",
    "y_pred = simpleRNN.predict(x_test)\n",
    "y_pred = np.round(y_pred)\n",
    "\n",
    "accuracy = accuracy_score(y_test, y_pred)"
   ],
   "metadata": {
    "collapsed": false,
    "ExecuteTime": {
     "end_time": "2023-12-12T10:35:20.196381200Z",
     "start_time": "2023-12-12T10:35:08.894344500Z"
    }
   },
   "id": "842d99705f3300cb"
  },
  {
   "cell_type": "code",
   "execution_count": 22,
   "outputs": [
    {
     "data": {
      "text/plain": "0.6746"
     },
     "execution_count": 22,
     "metadata": {},
     "output_type": "execute_result"
    }
   ],
   "source": [
    "accuracy"
   ],
   "metadata": {
    "collapsed": false,
    "ExecuteTime": {
     "end_time": "2023-12-12T20:30:20.823686200Z",
     "start_time": "2023-12-12T20:30:20.782941900Z"
    }
   },
   "id": "ec0f3e5ea6f1d196"
  },
  {
   "cell_type": "markdown",
   "source": [
    "## The Need for Attention Mechanism\n",
    "\n",
    "The problem with basic RNNs is that they are not very good at handling long sequences. \n",
    "\n",
    "Even when using more epochs, the accuracy of the model does not improve much. This is because the model is not able to learn the long-term dependencies in the data.\n",
    "\n",
    "This is known as the vanishing gradient problem."
   ],
   "metadata": {
    "collapsed": false
   },
   "id": "aa90419af88e83fc"
  },
  {
   "cell_type": "markdown",
   "source": [
    "### Vanishing Gradient Problem\n",
    "\n",
    "The vanishing gradient problem occurs when the gradients of the loss function become increasingly smaller as the model learns to associate inputs and outputs that are further apart in time.\n",
    "\n",
    "This leads to the model \"forgetting\" the information from the earlier inputs, which makes it difficult to learn long-term dependencies.\n",
    "\n",
    "![Simple RNN](https://raw.githubusercontent.com/ChaosTheLegend/ML-Book/main/Images/SimpleRNN.png)"
   ],
   "metadata": {
    "collapsed": false
   },
   "id": "3fabaa35bffd3e95"
  },
  {
   "cell_type": "markdown",
   "source": [
    "### Math Behind Vanishing Gradient Problem\n",
    "\n",
    "The vanishing gradient problem occurs because of the way gradients are computed in RNNs:\n",
    "\n",
    "$$\n",
    "\\frac{\\partial L}{\\partial W} = \\frac{\\partial L}{\\partial y} \\frac{\\partial y}{\\partial h} \\frac{\\partial h}{\\partial W}\n",
    "$$\n",
    "\n",
    "The gradient is computed by multiplying the gradients of the loss function with respect to the output, the output with respect to the hidden state, and the hidden state with respect to the weights.\n",
    "\n",
    "Since gradients are multiplied together, if the gradients at each time step are less than 1 (e.g., due to using activation functions like sigmoid or tanh), this multiplication leads to a compounding effect. As you go further back in time, the gradients become increasingly smaller.\n",
    "\n",
    "\n",
    "![Simple RNN](https://raw.githubusercontent.com/ChaosTheLegend/ML-Book/main/Images/SimpleRNNProblem.png)"
   ],
   "metadata": {
    "collapsed": false
   },
   "id": "f966d89f01fb6e0d"
  },
  {
   "cell_type": "markdown",
   "source": [],
   "metadata": {
    "collapsed": false
   },
   "id": "33edbcad9a58f381"
  },
  {
   "cell_type": "markdown",
   "source": [],
   "metadata": {
    "collapsed": false
   },
   "id": "b887b7959d07b367"
  },
  {
   "cell_type": "code",
   "execution_count": 6,
   "outputs": [
    {
     "data": {
      "text/plain": "<IPython.core.display.HTML object>",
      "text/html": "<div id=\"PteXkmJrezJx\" data-shufflequestions=\"False\"\n               data-shuffleanswers=\"True\"\n               data-preserveresponses=\"false\"\n               data-numquestions=\"1000000\"\n               data-maxwidth=\"600\"\n               style=\"border-radius: 10px; text-align: left\"> <style>\n#PteXkmJrezJx {\n   --jq-multiple-choice-bg: #6f78ffff;\n   --jq-mc-button-bg: #fafafa;\n   --jq-mc-button-border: #e0e0e0e0;\n   --jq-mc-button-inset-shadow: #555555;\n   --jq-many-choice-bg: #f75c03ff;\n   --jq-numeric-bg: #392061ff;\n   --jq-numeric-input-bg: #c0c0c0;\n   --jq-numeric-input-label: #101010;\n   --jq-numeric-input-shadow: #999999;\n   --jq-incorrect-color: #c80202;\n   --jq-correct-color: #009113;\n   --jq-text-color: #fafafa;\n}\n\n.Quiz {\n    max-width: 600px;\n    margin-top: 15px;\n    margin-left: auto;\n    margin-right: auto;\n    margin-bottom: 15px;\n    padding-bottom: 4px;\n    padding-top: 4px;\n    line-height: 1.1;\n    font-size: 16pt;\n    border-radius: inherit;\n}\n\n.QuizCode {\n    font-size: 14pt;\n    margin-top: 10px;\n    margin-left: 20px;\n    margin-right: 20px;\n}\n\n.QuizCode>pre {\n    padding: 4px;\n}\n\n.Answer {\n    margin: 10px 0;\n    display: grid;\n    grid-template-columns: 1fr 1fr;\n    grid-gap: 10px;\n    border-radius: inherit;\n}\n\n.Feedback {\n    font-size: 16pt;\n    text-align: center;\n    min-height: 2em;\n}\n\n.Input {\n    align: left;\n    font-size: 20pt;\n}\n\n.Input-text {\n    display: block;\n    margin: 10px;\n    color: inherit;\n    width: 140px;\n    background-color: var(--jq-numeric-input-bg);\n    color: var(--jq-text-color);\n    padding: 5px;\n    padding-left: 10px;\n    font-family: inherit;\n    font-size: 20px;\n    font-weight: inherit;\n    line-height: 20pt;\n    border: none;\n    border-radius: 0.2rem;\n    transition: box-shadow 0.1s);\n}\n\n.Input-text:focus {\n    outline: none;\n    background-color: var(--jq-numeric-input-bg);\n    box-shadow: 0.6rem 0.8rem 1.4rem -0.5rem var(--jq-numeric-input-shadow);\n}\n\n.MCButton {\n    background: var(--jq-mc-button-bg);\n    border: 1px solid var(--jq-mc-button-border);\n    border-radius: inherit;\n    padding: 10px;\n    font-size: 16px;\n    cursor: pointer;\n    text-align: center;\n    display: flex;\n    align-items: center;\n    justify-content: center;\n}\n\n.MCButton p {\n    color: inherit;\n}\n\n.MultipleChoiceQn {\n    padding: 10px;\n    background: var(--jq-multiple-choice-bg);\n    color: var(--jq-text-color);\n    border-radius: inherit;\n}\n\n.ManyChoiceQn {\n    padding: 10px;\n    background: var(--jq-many-choice-bg);\n    color: var(--jq-text-color);\n    border-radius: inherit;\n}\n\n.NumericQn {\n    padding: 10px;\n    background: var(--jq-numeric-bg);\n    color: var(--jq-text-color);\n    border-radius: inherit;\n}\n\n.NumericQn p {\n    color: inherit;\n}\n\n.InpLabel {\n    line-height: 34px;\n    float: left;\n    margin-right: 10px;\n    color: var(--jq-numeric-input-label);\n    font-size: 15pt;\n}\n\n.incorrect {\n    color: var(--jq-incorrect-color);\n}\n\n.correct {\n    color: var(--jq-correct-color);\n}\n\n.correctButton {\n    /*\n    background: var(--jq-correct-color);\n   */\n    animation: correct-anim 0.6s ease;\n    animation-fill-mode: forwards;\n    color: var(--jq-text-color);\n    box-shadow: inset 0px 0px 5px var(--jq-mc-button-inset-shadow);\n    outline: none;\n}\n\n.incorrectButton {\n    animation: incorrect-anim 0.8s ease;\n    animation-fill-mode: forwards;\n    color: var(--jq-text-color);\n    box-shadow: inset 0px 0px 5px var(--jq-mc-button-inset-shadow);\n    outline: none;\n}\n\n@keyframes incorrect-anim {\n    100% {\n        background-color: var(--jq-incorrect-color);\n    }\n}\n\n@keyframes correct-anim {\n    100% {\n        background-color: var(--jq-correct-color);\n    }\n}\n</style>"
     },
     "metadata": {},
     "output_type": "display_data"
    },
    {
     "data": {
      "text/plain": "<IPython.core.display.Javascript object>",
      "application/javascript": "var questionsPteXkmJrezJx={\n    \"question\": \"What is the primary purpose of the hidden state in an RNN?\",\n    \"type\": \"many_choice\",\n\n    \"answers\": [\n        {\n            \"answer\": \"To store the input data\",\n            \"correct\": false,\n            \"feedback\": \"Try again\"\n        },\n        {\n            \"answer\": \"To provide a connection between input and output layers\",\n            \"correct\": false,\n            \"feedback\": \"Try again\"\n        },\n        {\n            \"answer\": \"To capture information about the sequence up to the current time step\",\n            \"correct\": true,\n            \"feedback\": \"Correct.\"\n        },\n        {\n            \"answer\": \"FTo act as an additional output layer\",\n            \"correct\": false,\n            \"feedback\": \"Try again\"\n\n        }\n    ]\n}\n        ;\n    // Make a random ID\nfunction makeid(length) {\n    var result = [];\n    var characters = 'ABCDEFGHIJKLMNOPQRSTUVWXYZabcdefghijklmnopqrstuvwxyz';\n    var charactersLength = characters.length;\n    for (var i = 0; i < length; i++) {\n        result.push(characters.charAt(Math.floor(Math.random() * charactersLength)));\n    }\n    return result.join('');\n}\n\n// Choose a random subset of an array. Can also be used to shuffle the array\nfunction getRandomSubarray(arr, size) {\n    var shuffled = arr.slice(0), i = arr.length, temp, index;\n    while (i--) {\n        index = Math.floor((i + 1) * Math.random());\n        temp = shuffled[index];\n        shuffled[index] = shuffled[i];\n        shuffled[i] = temp;\n    }\n    return shuffled.slice(0, size);\n}\n\nfunction printResponses(responsesContainer) {\n    var responses=JSON.parse(responsesContainer.dataset.responses);\n    var stringResponses='<B>IMPORTANT!</B>To preserve this answer sequence for submission, when you have finalized your answers: <ol> <li> Copy the text in this cell below \"Answer String\"</li> <li> Double click on the cell directly below the Answer String, labeled \"Replace Me\"</li> <li> Select the whole \"Replace Me\" text</li> <li> Paste in your answer string and press shift-Enter.</li><li>Save the notebook using the save icon or File->Save Notebook menu item</li></ul><br><br><br><b>Answer String:</b><br> ';\n    console.log(responses);\n    responses.forEach((response, index) => {\n        if (response) {\n            console.log(index + ': ' + response);\n            stringResponses+= index + ': ' + response +\"<BR>\";\n        }\n    });\n    responsesContainer.innerHTML=stringResponses;\n}\nfunction check_mc() {\n    var id = this.id.split('-')[0];\n    //var response = this.id.split('-')[1];\n    //console.log(response);\n    //console.log(\"In check_mc(), id=\"+id);\n    //console.log(event.srcElement.id)           \n    //console.log(event.srcElement.dataset.correct)   \n    //console.log(event.srcElement.dataset.feedback)\n\n    var label = event.srcElement;\n    //console.log(label, label.nodeName);\n    var depth = 0;\n    while ((label.nodeName != \"LABEL\") && (depth < 20)) {\n        label = label.parentElement;\n        console.log(depth, label);\n        depth++;\n    }\n\n\n\n    var answers = label.parentElement.children;\n\n    //console.log(answers);\n\n\n    // Split behavior based on multiple choice vs many choice:\n    var fb = document.getElementById(\"fb\" + id);\n\n\n\n\n    if (fb.dataset.numcorrect == 1) {\n        // What follows is for the saved responses stuff\n        var outerContainer = fb.parentElement.parentElement;\n        var responsesContainer = document.getElementById(\"responses\" + outerContainer.id);\n        if (responsesContainer) {\n            //console.log(responsesContainer);\n            var response = label.firstChild.innerText;\n            if (label.querySelector(\".QuizCode\")){\n                response+= label.querySelector(\".QuizCode\").firstChild.innerText;\n            }\n            console.log(response);\n            //console.log(document.getElementById(\"quizWrap\"+id));\n            var qnum = document.getElementById(\"quizWrap\"+id).dataset.qnum;\n            console.log(\"Question \" + qnum);\n            //console.log(id, \", got numcorrect=\",fb.dataset.numcorrect);\n            var responses=JSON.parse(responsesContainer.dataset.responses);\n            console.log(responses);\n            responses[qnum]= response;\n            responsesContainer.setAttribute('data-responses', JSON.stringify(responses));\n            printResponses(responsesContainer);\n        }\n        // End code to preserve responses\n        \n        for (var i = 0; i < answers.length; i++) {\n            var child = answers[i];\n            //console.log(child);\n            child.className = \"MCButton\";\n        }\n\n\n\n        if (label.dataset.correct == \"true\") {\n            // console.log(\"Correct action\");\n            if (\"feedback\" in label.dataset) {\n                fb.textContent = jaxify(label.dataset.feedback);\n            } else {\n                fb.textContent = \"Correct!\";\n            }\n            label.classList.add(\"correctButton\");\n\n            fb.className = \"Feedback\";\n            fb.classList.add(\"correct\");\n\n        } else {\n            if (\"feedback\" in label.dataset) {\n                fb.textContent = jaxify(label.dataset.feedback);\n            } else {\n                fb.textContent = \"Incorrect -- try again.\";\n            }\n            //console.log(\"Error action\");\n            label.classList.add(\"incorrectButton\");\n            fb.className = \"Feedback\";\n            fb.classList.add(\"incorrect\");\n        }\n    }\n    else {\n        var reset = false;\n        var feedback;\n         if (label.dataset.correct == \"true\") {\n            if (\"feedback\" in label.dataset) {\n                feedback = jaxify(label.dataset.feedback);\n            } else {\n                feedback = \"Correct!\";\n            }\n            if (label.dataset.answered <= 0) {\n                if (fb.dataset.answeredcorrect < 0) {\n                    fb.dataset.answeredcorrect = 1;\n                    reset = true;\n                } else {\n                    fb.dataset.answeredcorrect++;\n                }\n                if (reset) {\n                    for (var i = 0; i < answers.length; i++) {\n                        var child = answers[i];\n                        child.className = \"MCButton\";\n                        child.dataset.answered = 0;\n                    }\n                }\n                label.classList.add(\"correctButton\");\n                label.dataset.answered = 1;\n                fb.className = \"Feedback\";\n                fb.classList.add(\"correct\");\n\n            }\n        } else {\n            if (\"feedback\" in label.dataset) {\n                feedback = jaxify(label.dataset.feedback);\n            } else {\n                feedback = \"Incorrect -- try again.\";\n            }\n            if (fb.dataset.answeredcorrect > 0) {\n                fb.dataset.answeredcorrect = -1;\n                reset = true;\n            } else {\n                fb.dataset.answeredcorrect--;\n            }\n\n            if (reset) {\n                for (var i = 0; i < answers.length; i++) {\n                    var child = answers[i];\n                    child.className = \"MCButton\";\n                    child.dataset.answered = 0;\n                }\n            }\n            label.classList.add(\"incorrectButton\");\n            fb.className = \"Feedback\";\n            fb.classList.add(\"incorrect\");\n        }\n        // What follows is for the saved responses stuff\n        var outerContainer = fb.parentElement.parentElement;\n        var responsesContainer = document.getElementById(\"responses\" + outerContainer.id);\n        if (responsesContainer) {\n            //console.log(responsesContainer);\n            var response = label.firstChild.innerText;\n            if (label.querySelector(\".QuizCode\")){\n                response+= label.querySelector(\".QuizCode\").firstChild.innerText;\n            }\n            console.log(response);\n            //console.log(document.getElementById(\"quizWrap\"+id));\n            var qnum = document.getElementById(\"quizWrap\"+id).dataset.qnum;\n            console.log(\"Question \" + qnum);\n            //console.log(id, \", got numcorrect=\",fb.dataset.numcorrect);\n            var responses=JSON.parse(responsesContainer.dataset.responses);\n            if (label.dataset.correct == \"true\") {\n                if (typeof(responses[qnum]) == \"object\"){\n                    if (!responses[qnum].includes(response))\n                        responses[qnum].push(response);\n                } else{\n                    responses[qnum]= [ response ];\n                }\n            } else {\n                responses[qnum]= response;\n            }\n            console.log(responses);\n            responsesContainer.setAttribute('data-responses', JSON.stringify(responses));\n            printResponses(responsesContainer);\n        }\n        // End save responses stuff\n\n\n\n        var numcorrect = fb.dataset.numcorrect;\n        var answeredcorrect = fb.dataset.answeredcorrect;\n        if (answeredcorrect >= 0) {\n            fb.textContent = feedback + \" [\" + answeredcorrect + \"/\" + numcorrect + \"]\";\n        } else {\n            fb.textContent = feedback + \" [\" + 0 + \"/\" + numcorrect + \"]\";\n        }\n\n\n    }\n\n    if (typeof MathJax != 'undefined') {\n        var version = MathJax.version;\n        console.log('MathJax version', version);\n        if (version[0] == \"2\") {\n            MathJax.Hub.Queue([\"Typeset\", MathJax.Hub]);\n        } else if (version[0] == \"3\") {\n            MathJax.typeset([fb]);\n        }\n    } else {\n        console.log('MathJax not detected');\n    }\n\n}\n\nfunction make_mc(qa, shuffle_answers, outerqDiv, qDiv, aDiv, id) {\n    var shuffled;\n    if (shuffle_answers == \"True\") {\n        //console.log(shuffle_answers+\" read as true\");\n        shuffled = getRandomSubarray(qa.answers, qa.answers.length);\n    } else {\n        //console.log(shuffle_answers+\" read as false\");\n        shuffled = qa.answers;\n    }\n\n\n    var num_correct = 0;\n\n\n\n    shuffled.forEach((item, index, ans_array) => {\n        //console.log(answer);\n\n        // Make input element\n        var inp = document.createElement(\"input\");\n        inp.type = \"radio\";\n        inp.id = \"quizo\" + id + index;\n        inp.style = \"display:none;\";\n        aDiv.append(inp);\n\n        //Make label for input element\n        var lab = document.createElement(\"label\");\n        lab.className = \"MCButton\";\n        lab.id = id + '-' + index;\n        lab.onclick = check_mc;\n        var aSpan = document.createElement('span');\n        aSpan.classsName = \"\";\n        //qDiv.id=\"quizQn\"+id+index;\n        if (\"answer\" in item) {\n            aSpan.innerHTML = jaxify(item.answer);\n            //aSpan.innerHTML=item.answer;\n        }\n        lab.append(aSpan);\n\n        // Create div for code inside question\n        var codeSpan;\n        if (\"code\" in item) {\n            codeSpan = document.createElement('span');\n            codeSpan.id = \"code\" + id + index;\n            codeSpan.className = \"QuizCode\";\n            var codePre = document.createElement('pre');\n            codeSpan.append(codePre);\n            var codeCode = document.createElement('code');\n            codePre.append(codeCode);\n            codeCode.innerHTML = item.code;\n            lab.append(codeSpan);\n            //console.log(codeSpan);\n        }\n\n        //lab.textContent=item.answer;\n\n        // Set the data attributes for the answer\n        lab.setAttribute('data-correct', item.correct);\n        if (item.correct) {\n            num_correct++;\n        }\n        if (\"feedback\" in item) {\n            lab.setAttribute('data-feedback', item.feedback);\n        }\n        lab.setAttribute('data-answered', 0);\n\n        aDiv.append(lab);\n\n    });\n\n    if (num_correct > 1) {\n        outerqDiv.className = \"ManyChoiceQn\";\n    } else {\n        outerqDiv.className = \"MultipleChoiceQn\";\n    }\n\n    return num_correct;\n\n}\nfunction check_numeric(ths, event) {\n\n    if (event.keyCode === 13) {\n        ths.blur();\n\n        var id = ths.id.split('-')[0];\n\n        var submission = ths.value;\n        if (submission.indexOf('/') != -1) {\n            var sub_parts = submission.split('/');\n            //console.log(sub_parts);\n            submission = sub_parts[0] / sub_parts[1];\n        }\n        //console.log(\"Reader entered\", submission);\n\n        if (\"precision\" in ths.dataset) {\n            var precision = ths.dataset.precision;\n            // console.log(\"1:\", submission)\n            submission = Math.round((1 * submission + Number.EPSILON) * 10 ** precision) / 10 ** precision;\n            // console.log(\"Rounded to \", submission, \" precision=\", precision  );\n        }\n\n\n        //console.log(\"In check_numeric(), id=\"+id);\n        //console.log(event.srcElement.id)           \n        //console.log(event.srcElement.dataset.feedback)\n\n        var fb = document.getElementById(\"fb\" + id);\n        fb.style.display = \"none\";\n        fb.textContent = \"Incorrect -- try again.\";\n\n        var answers = JSON.parse(ths.dataset.answers);\n        //console.log(answers);\n\n        var defaultFB = \"\";\n        var correct;\n        var done = false;\n        answers.every(answer => {\n            //console.log(answer.type);\n\n            correct = false;\n            // if (answer.type==\"value\"){\n            if ('value' in answer) {\n                if (submission == answer.value) {\n                    if (\"feedback\" in answer) {\n                        fb.textContent = jaxify(answer.feedback);\n                    } else {\n                        fb.textContent = jaxify(\"Correct\");\n                    }\n                    correct = answer.correct;\n                    //console.log(answer.correct);\n                    done = true;\n                }\n                // } else if (answer.type==\"range\") {\n            } else if ('range' in answer) {\n                //console.log(answer.range);\n                if ((submission >= answer.range[0]) && (submission < answer.range[1])) {\n                    fb.textContent = jaxify(answer.feedback);\n                    correct = answer.correct;\n                    //console.log(answer.correct);\n                    done = true;\n                }\n            } else if (answer.type == \"default\") {\n                defaultFB = answer.feedback;\n            }\n            if (done) {\n                return false; // Break out of loop if this has been marked correct\n            } else {\n                return true; // Keep looking for case that includes this as a correct answer\n            }\n        });\n\n        if ((!done) && (defaultFB != \"\")) {\n            fb.innerHTML = jaxify(defaultFB);\n            //console.log(\"Default feedback\", defaultFB);\n        }\n\n        fb.style.display = \"block\";\n        if (correct) {\n            ths.className = \"Input-text\";\n            ths.classList.add(\"correctButton\");\n            fb.className = \"Feedback\";\n            fb.classList.add(\"correct\");\n        } else {\n            ths.className = \"Input-text\";\n            ths.classList.add(\"incorrectButton\");\n            fb.className = \"Feedback\";\n            fb.classList.add(\"incorrect\");\n        }\n\n        // What follows is for the saved responses stuff\n        var outerContainer = fb.parentElement.parentElement;\n        var responsesContainer = document.getElementById(\"responses\" + outerContainer.id);\n        if (responsesContainer) {\n            console.log(submission);\n            var qnum = document.getElementById(\"quizWrap\"+id).dataset.qnum;\n            //console.log(\"Question \" + qnum);\n            //console.log(id, \", got numcorrect=\",fb.dataset.numcorrect);\n            var responses=JSON.parse(responsesContainer.dataset.responses);\n            console.log(responses);\n            if (submission == ths.value){\n                responses[qnum]= submission;\n            } else {\n                responses[qnum]= ths.value + \"(\" + submission +\")\";\n            }\n            responsesContainer.setAttribute('data-responses', JSON.stringify(responses));\n            printResponses(responsesContainer);\n        }\n        // End code to preserve responses\n\n        if (typeof MathJax != 'undefined') {\n            var version = MathJax.version;\n            console.log('MathJax version', version);\n            if (version[0] == \"2\") {\n                MathJax.Hub.Queue([\"Typeset\", MathJax.Hub]);\n            } else if (version[0] == \"3\") {\n                MathJax.typeset([fb]);\n            }\n        } else {\n            console.log('MathJax not detected');\n        }\n        return false;\n    }\n\n}\n\nfunction isValid(el, charC) {\n    //console.log(\"Input char: \", charC);\n    if (charC == 46) {\n        if (el.value.indexOf('.') === -1) {\n            return true;\n        } else if (el.value.indexOf('/') != -1) {\n            var parts = el.value.split('/');\n            if (parts[1].indexOf('.') === -1) {\n                return true;\n            }\n        }\n        else {\n            return false;\n        }\n    } else if (charC == 47) {\n        if (el.value.indexOf('/') === -1) {\n            if ((el.value != \"\") && (el.value != \".\")) {\n                return true;\n            } else {\n                return false;\n            }\n        } else {\n            return false;\n        }\n    } else if (charC == 45) {\n        var edex = el.value.indexOf('e');\n        if (edex == -1) {\n            edex = el.value.indexOf('E');\n        }\n\n        if (el.value == \"\") {\n            return true;\n        } else if (edex == (el.value.length - 1)) { // If just after e or E\n            return true;\n        } else {\n            return false;\n        }\n    } else if (charC == 101) { // \"e\"\n        if ((el.value.indexOf('e') === -1) && (el.value.indexOf('E') === -1) && (el.value.indexOf('/') == -1)) {\n            // Prev symbol must be digit or decimal point:\n            if (el.value.slice(-1).search(/\\d/) >= 0) {\n                return true;\n            } else if (el.value.slice(-1).search(/\\./) >= 0) {\n                return true;\n            } else {\n                return false;\n            }\n        } else {\n            return false;\n        }\n    } else {\n        if (charC > 31 && (charC < 48 || charC > 57))\n            return false;\n    }\n    return true;\n}\n\nfunction numeric_keypress(evnt) {\n    var charC = (evnt.which) ? evnt.which : evnt.keyCode;\n\n    if (charC == 13) {\n        check_numeric(this, evnt);\n    } else {\n        return isValid(this, charC);\n    }\n}\n\n\n\n\n\nfunction make_numeric(qa, outerqDiv, qDiv, aDiv, id) {\n\n\n\n    //console.log(answer);\n\n\n    outerqDiv.className = \"NumericQn\";\n    aDiv.style.display = 'block';\n\n    var lab = document.createElement(\"label\");\n    lab.className = \"InpLabel\";\n    lab.textContent = \"Type numeric answer here:\";\n    aDiv.append(lab);\n\n    var inp = document.createElement(\"input\");\n    inp.type = \"text\";\n    //inp.id=\"input-\"+id;\n    inp.id = id + \"-0\";\n    inp.className = \"Input-text\";\n    inp.setAttribute('data-answers', JSON.stringify(qa.answers));\n    if (\"precision\" in qa) {\n        inp.setAttribute('data-precision', qa.precision);\n    }\n    aDiv.append(inp);\n    //console.log(inp);\n\n    //inp.addEventListener(\"keypress\", check_numeric);\n    //inp.addEventListener(\"keypress\", numeric_keypress);\n    /*\n    inp.addEventListener(\"keypress\", function(event) {\n        return numeric_keypress(this, event);\n    }\n                        );\n                        */\n    //inp.onkeypress=\"return numeric_keypress(this, event)\";\n    inp.onkeypress = numeric_keypress;\n    inp.onpaste = event => false;\n\n    inp.addEventListener(\"focus\", function (event) {\n        this.value = \"\";\n        return false;\n    }\n    );\n\n\n}\nfunction jaxify(string) {\n    var mystring = string;\n\n    var count = 0;\n    var loc = mystring.search(/([^\\\\]|^)(\\$)/);\n\n    var count2 = 0;\n    var loc2 = mystring.search(/([^\\\\]|^)(\\$\\$)/);\n\n    //console.log(loc);\n\n    while ((loc >= 0) || (loc2 >= 0)) {\n\n        /* Have to replace all the double $$ first with current implementation */\n        if (loc2 >= 0) {\n            if (count2 % 2 == 0) {\n                mystring = mystring.replace(/([^\\\\]|^)(\\$\\$)/, \"$1\\\\[\");\n            } else {\n                mystring = mystring.replace(/([^\\\\]|^)(\\$\\$)/, \"$1\\\\]\");\n            }\n            count2++;\n        } else {\n            if (count % 2 == 0) {\n                mystring = mystring.replace(/([^\\\\]|^)(\\$)/, \"$1\\\\(\");\n            } else {\n                mystring = mystring.replace(/([^\\\\]|^)(\\$)/, \"$1\\\\)\");\n            }\n            count++;\n        }\n        loc = mystring.search(/([^\\\\]|^)(\\$)/);\n        loc2 = mystring.search(/([^\\\\]|^)(\\$\\$)/);\n        //console.log(mystring,\", loc:\",loc,\", loc2:\",loc2);\n    }\n\n    //console.log(mystring);\n    return mystring;\n}\n\n\nfunction show_questions(json, mydiv) {\n    console.log('show_questions');\n    //var mydiv=document.getElementById(myid);\n    var shuffle_questions = mydiv.dataset.shufflequestions;\n    var num_questions = mydiv.dataset.numquestions;\n    var shuffle_answers = mydiv.dataset.shuffleanswers;\n    var max_width = mydiv.dataset.maxwidth;\n\n    if (num_questions > json.length) {\n        num_questions = json.length;\n    }\n\n    var questions;\n    if ((num_questions < json.length) || (shuffle_questions == \"True\")) {\n        //console.log(num_questions+\",\"+json.length);\n        questions = getRandomSubarray(json, num_questions);\n    } else {\n        questions = json;\n    }\n\n    //console.log(\"SQ: \"+shuffle_questions+\", NQ: \" + num_questions + \", SA: \", shuffle_answers);\n\n    // Iterate over questions\n    questions.forEach((qa, index, array) => {\n        //console.log(qa.question); \n\n        var id = makeid(8);\n        //console.log(id);\n\n\n        // Create Div to contain question and answers\n        var iDiv = document.createElement('div');\n        //iDiv.id = 'quizWrap' + id + index;\n        iDiv.id = 'quizWrap' + id;\n        iDiv.className = 'Quiz';\n        iDiv.setAttribute('data-qnum', index);\n        iDiv.style.maxWidth  =max_width+\"px\";\n        mydiv.appendChild(iDiv);\n        // iDiv.innerHTML=qa.question;\n        \n        var outerqDiv = document.createElement('div');\n        outerqDiv.id = \"OuterquizQn\" + id + index;\n        // Create div to contain question part\n        var qDiv = document.createElement('div');\n        qDiv.id = \"quizQn\" + id + index;\n        \n        if (qa.question) {\n            iDiv.append(outerqDiv);\n\n            //qDiv.textContent=qa.question;\n            qDiv.innerHTML = jaxify(qa.question);\n            outerqDiv.append(qDiv);\n        }\n\n        // Create div for code inside question\n        var codeDiv;\n        if (\"code\" in qa) {\n            codeDiv = document.createElement('div');\n            codeDiv.id = \"code\" + id + index;\n            codeDiv.className = \"QuizCode\";\n            var codePre = document.createElement('pre');\n            codeDiv.append(codePre);\n            var codeCode = document.createElement('code');\n            codePre.append(codeCode);\n            codeCode.innerHTML = qa.code;\n            outerqDiv.append(codeDiv);\n            //console.log(codeDiv);\n        }\n\n\n        // Create div to contain answer part\n        var aDiv = document.createElement('div');\n        aDiv.id = \"quizAns\" + id + index;\n        aDiv.className = 'Answer';\n        iDiv.append(aDiv);\n\n        //console.log(qa.type);\n\n        var num_correct;\n        if ((qa.type == \"multiple_choice\") || (qa.type == \"many_choice\") ) {\n            num_correct = make_mc(qa, shuffle_answers, outerqDiv, qDiv, aDiv, id);\n            if (\"answer_cols\" in qa) {\n                //aDiv.style.gridTemplateColumns = 'auto '.repeat(qa.answer_cols);\n                aDiv.style.gridTemplateColumns = 'repeat(' + qa.answer_cols + ', 1fr)';\n            }\n        } else if (qa.type == \"numeric\") {\n            //console.log(\"numeric\");\n            make_numeric(qa, outerqDiv, qDiv, aDiv, id);\n        }\n\n\n        //Make div for feedback\n        var fb = document.createElement(\"div\");\n        fb.id = \"fb\" + id;\n        //fb.style=\"font-size: 20px;text-align:center;\";\n        fb.className = \"Feedback\";\n        fb.setAttribute(\"data-answeredcorrect\", 0);\n        fb.setAttribute(\"data-numcorrect\", num_correct);\n        iDiv.append(fb);\n\n\n    });\n    var preserveResponses = mydiv.dataset.preserveresponses;\n    console.log(preserveResponses);\n    console.log(preserveResponses == \"true\");\n    if (preserveResponses == \"true\") {\n        console.log(preserveResponses);\n        // Create Div to contain record of answers\n        var iDiv = document.createElement('div');\n        iDiv.id = 'responses' + mydiv.id;\n        iDiv.className = 'JCResponses';\n        // Create a place to store responses as an empty array\n        iDiv.setAttribute('data-responses', '[]');\n\n        // Dummy Text\n        iDiv.innerHTML=\"<b>Select your answers and then follow the directions that will appear here.</b>\"\n        //iDiv.className = 'Quiz';\n        mydiv.appendChild(iDiv);\n    }\n//console.log(\"At end of show_questions\");\n    if (typeof MathJax != 'undefined') {\n        console.log(\"MathJax version\", MathJax.version);\n        var version = MathJax.version;\n        setTimeout(function(){\n            var version = MathJax.version;\n            console.log('After sleep, MathJax version', version);\n            if (version[0] == \"2\") {\n                MathJax.Hub.Queue([\"Typeset\", MathJax.Hub]);\n            } else if (version[0] == \"3\") {\n                MathJax.typeset([mydiv]);\n            }\n        }, 500);\nif (typeof version == 'undefined') {\n        } else\n        {\n            if (version[0] == \"2\") {\n                MathJax.Hub.Queue([\"Typeset\", MathJax.Hub]);\n            } else if (version[0] == \"3\") {\n                MathJax.typeset([mydiv]);\n            } else {\n                console.log(\"MathJax not found\");\n            }\n        }\n    }\n    return false;\n}\n/* This is to handle asynchrony issues in loading Jupyter notebooks\n           where the quiz has been previously run. The Javascript was generally\n           being run before the div was added to the DOM. I tried to do this\n           more elegantly using Mutation Observer, but I didn't get it to work.\n\n           Someone more knowledgeable could make this better ;-) */\n\n        function try_show() {\n          if(document.getElementById(\"PteXkmJrezJx\")) {\n            show_questions(questionsPteXkmJrezJx,  PteXkmJrezJx); \n          } else {\n             setTimeout(try_show, 200);\n          }\n        };\n    \n        //console.log(element);\n        {\n        const jmscontroller = new AbortController();\n        const signal = jmscontroller.signal;\n\n        setTimeout(() => jmscontroller.abort(), 5000);\n\n        fetch(\"https://raw.githubusercontent.com/ChaosTheLegend/ML-Book/main/Quizes/quiz2.json\", {signal})\n        .then(response => response.json())\n        .then(json => show_questions(json, PteXkmJrezJx))\n        .catch(err => {\n        console.log(\"Fetch error or timeout\");\n        show_questions(questionsPteXkmJrezJx, PteXkmJrezJx);\n        });\n        }\n        "
     },
     "metadata": {},
     "output_type": "display_data"
    }
   ],
   "source": [
    "display_quiz(git_path + \"quiz2.json\")"
   ],
   "metadata": {
    "collapsed": false,
    "ExecuteTime": {
     "end_time": "2023-12-12T21:34:35.455368700Z",
     "start_time": "2023-12-12T21:34:34.887133200Z"
    }
   },
   "id": "36bf51eeae2618b3"
  },
  {
   "cell_type": "markdown",
   "source": [
    "## Attention Mechanism"
   ],
   "metadata": {
    "collapsed": false
   },
   "id": "e0019a25002319a3"
  },
  {
   "cell_type": "markdown",
   "source": [
    "Attention mechanisms are a way to help RNNs learn long-term dependencies by allowing the model to focus on the most relevant parts of the input sequence when producing a given output."
   ],
   "metadata": {
    "collapsed": false
   },
   "id": "fef4c5ef8da97d9b"
  },
  {
   "cell_type": "markdown",
   "source": [
    "ng)"
   ],
   "metadata": {
    "collapsed": false
   },
   "id": "7383250d880f9adc"
  },
  {
   "cell_type": "code",
   "execution_count": 35,
   "outputs": [],
   "source": [
    "from keras.layers import Input, Embedding, LSTM, Dense, Attention, Bidirectional, Dropout\n",
    "import os\n",
    "\n",
    "#check if there is a model file in the current directory\n",
    "\n",
    "# if not, train a new model and save it\n",
    "\n",
    "# if there is, load the model from the file\n",
    "\n",
    "train_new_model = True\n",
    "\n",
    "if('LSTM.keras' in os.listdir()):\n",
    "    LSTM = tf.keras.models.load_model('LSTM.keras')\n",
    "    train_new_model = False\n"
   ],
   "metadata": {
    "collapsed": false,
    "ExecuteTime": {
     "end_time": "2023-12-12T11:06:24.570512800Z",
     "start_time": "2023-12-12T11:06:23.781832700Z"
    }
   },
   "id": "c7560374b7b1af52"
  },
  {
   "cell_type": "code",
   "execution_count": null,
   "outputs": [],
   "source": [
    "if train_new_model:    \n",
    "    inputs = Input(shape=(max_len,))\n",
    "    embedding = Embedding(input_dim=10000, output_dim=embedding_dim, input_length=max_len)(inputs)\n",
    "    lstm = Bidirectional(LSTM(hidden_dim, return_sequences=True))(embedding)\n",
    "    attention = Attention()([lstm, lstm])\n",
    "    context = tf.reduce_sum(attention * lstm, axis=1)\n",
    "    dropout = Dropout(dropout_rate)(context)\n",
    "    output = Dense(output_dim, activation='sigmoid')(dropout)\n",
    "\n",
    "\n",
    "    LSTM = tf.keras.Model(inputs=inputs, outputs=output)\n",
    "\n",
    "    LSTM.compile(optimizer='adam', loss='binary_crossentropy', metrics=['accuracy'])"
   ],
   "metadata": {
    "collapsed": false
   },
   "id": "e93e86a83ee44f21"
  },
  {
   "cell_type": "code",
   "execution_count": 62,
   "outputs": [
    {
     "name": "stdout",
     "output_type": "stream",
     "text": [
      "Model: \"model\"\n",
      "__________________________________________________________________________________________________\n",
      " Layer (type)                Output Shape                 Param #   Connected to                  \n",
      "==================================================================================================\n",
      " input_1 (InputLayer)        [(None, 200)]                0         []                            \n",
      "                                                                                                  \n",
      " embedding_5 (Embedding)     (None, 200, 100)             1000000   ['input_1[0][0]']             \n",
      "                                                                                                  \n",
      " bidirectional (Bidirection  (None, 200, 512)             731136    ['embedding_5[0][0]']         \n",
      " al)                                                                                              \n",
      "                                                                                                  \n",
      " attention (Attention)       (None, 200, 512)             0         ['bidirectional[0][0]',       \n",
      "                                                                     'bidirectional[0][0]']       \n",
      "                                                                                                  \n",
      " tf.math.multiply (TFOpLamb  (None, 200, 512)             0         ['attention[0][0]',           \n",
      " da)                                                                 'bidirectional[0][0]']       \n",
      "                                                                                                  \n",
      " tf.math.reduce_sum (TFOpLa  (None, 512)                  0         ['tf.math.multiply[0][0]']    \n",
      " mbda)                                                                                            \n",
      "                                                                                                  \n",
      " dropout (Dropout)           (None, 512)                  0         ['tf.math.reduce_sum[0][0]']  \n",
      "                                                                                                  \n",
      " dense_14 (Dense)            (None, 1)                    513       ['dropout[0][0]']             \n",
      "                                                                                                  \n",
      "==================================================================================================\n",
      "Total params: 1731649 (6.61 MB)\n",
      "Trainable params: 1731649 (6.61 MB)\n",
      "Non-trainable params: 0 (0.00 Byte)\n",
      "__________________________________________________________________________________________________\n"
     ]
    }
   ],
   "source": [
    "LSTM.summary()"
   ],
   "metadata": {
    "collapsed": false,
    "ExecuteTime": {
     "end_time": "2023-12-11T21:56:48.496227600Z",
     "start_time": "2023-12-11T21:56:48.484282Z"
    }
   },
   "id": "895c1aa46230705d"
  },
  {
   "cell_type": "code",
   "execution_count": 64,
   "outputs": [
    {
     "name": "stdout",
     "output_type": "stream",
     "text": [
      "Epoch 1/5\n",
      "157/157 [==============================] - 500s 3s/step - loss: 0.3923 - accuracy: 0.8305 - val_loss: 0.3380 - val_accuracy: 0.8576\n",
      "Epoch 2/5\n",
      "157/157 [==============================] - 384s 2s/step - loss: 0.2301 - accuracy: 0.9102 - val_loss: 0.3628 - val_accuracy: 0.8676\n",
      "Epoch 3/5\n",
      "157/157 [==============================] - 402s 3s/step - loss: 0.1718 - accuracy: 0.9337 - val_loss: 0.3564 - val_accuracy: 0.8626\n",
      "Epoch 4/5\n",
      "157/157 [==============================] - 401s 3s/step - loss: 0.1479 - accuracy: 0.9424 - val_loss: 0.4766 - val_accuracy: 0.8486\n",
      "Epoch 5/5\n",
      "157/157 [==============================] - 400s 3s/step - loss: 0.1057 - accuracy: 0.9574 - val_loss: 0.5865 - val_accuracy: 0.8534\n"
     ]
    },
    {
     "data": {
      "text/plain": "<keras.src.callbacks.History at 0x19c27f14ed0>"
     },
     "execution_count": 64,
     "metadata": {},
     "output_type": "execute_result"
    }
   ],
   "source": [
    "if train_new_model:\n",
    "    LSTM.fit(x_train, y_train, epochs=5, batch_size=128, validation_split=0.2)"
   ],
   "metadata": {
    "collapsed": false,
    "ExecuteTime": {
     "end_time": "2023-12-11T22:34:29.111314700Z",
     "start_time": "2023-12-11T21:59:41.706750700Z"
    }
   },
   "id": "3ef426df8cc064eb"
  },
  {
   "cell_type": "code",
   "execution_count": 66,
   "outputs": [],
   "source": [
    "LSTM.save('LSTM.keras')"
   ],
   "metadata": {
    "collapsed": false,
    "ExecuteTime": {
     "end_time": "2023-12-11T22:37:38.677198700Z",
     "start_time": "2023-12-11T22:37:38.582200700Z"
    }
   },
   "id": "fc0d79e674fa5aa8"
  },
  {
   "cell_type": "code",
   "execution_count": 86,
   "outputs": [
    {
     "name": "stdout",
     "output_type": "stream",
     "text": [
      "782/782 [==============================] - 108s 139ms/step\n"
     ]
    },
    {
     "data": {
      "text/plain": "0.82268"
     },
     "execution_count": 86,
     "metadata": {},
     "output_type": "execute_result"
    }
   ],
   "source": [
    "y_pred = LSTM.predict(x_test)\n",
    "\n",
    "y_pred = np.round(y_pred)\n",
    "\n",
    "accuracy = accuracy_score(y_test, y_pred)\n",
    "\n",
    "accuracy"
   ],
   "metadata": {
    "collapsed": false,
    "ExecuteTime": {
     "end_time": "2023-12-11T22:50:32.830461400Z",
     "start_time": "2023-12-11T22:48:44.269112400Z"
    }
   },
   "id": "12810a1b15b14a24"
  },
  {
   "cell_type": "code",
   "execution_count": 36,
   "outputs": [
    {
     "name": "stdout",
     "output_type": "stream",
     "text": [
      "Model: \"model\"\n",
      "__________________________________________________________________________________________________\n",
      " Layer (type)                Output Shape                 Param #   Connected to                  \n",
      "==================================================================================================\n",
      " input_1 (InputLayer)        [(None, 200)]                0         []                            \n",
      "                                                                                                  \n",
      " embedding_5 (Embedding)     (None, 200, 100)             1000000   ['input_1[0][0]']             \n",
      "                                                                                                  \n",
      " bidirectional (Bidirection  (None, 200, 512)             731136    ['embedding_5[0][0]']         \n",
      " al)                                                                                              \n",
      "                                                                                                  \n",
      " attention (Attention)       (None, 200, 512)             0         ['bidirectional[0][0]',       \n",
      "                                                                     'bidirectional[0][0]']       \n",
      "                                                                                                  \n",
      " tf.math.multiply (TFOpLamb  (None, 200, 512)             0         ['attention[0][0]',           \n",
      " da)                                                                 'bidirectional[0][0]']       \n",
      "                                                                                                  \n",
      " tf.math.reduce_sum (TFOpLa  (None, 512)                  0         ['tf.math.multiply[0][0]']    \n",
      " mbda)                                                                                            \n",
      "                                                                                                  \n",
      " dropout (Dropout)           (None, 512)                  0         ['tf.math.reduce_sum[0][0]']  \n",
      "                                                                                                  \n",
      " dense_14 (Dense)            (None, 1)                    513       ['dropout[0][0]']             \n",
      "                                                                                                  \n",
      "==================================================================================================\n",
      "Total params: 1731649 (6.61 MB)\n",
      "Trainable params: 1731649 (6.61 MB)\n",
      "Non-trainable params: 0 (0.00 Byte)\n",
      "__________________________________________________________________________________________________\n"
     ]
    }
   ],
   "source": [
    "LSTM.summary()"
   ],
   "metadata": {
    "collapsed": false,
    "ExecuteTime": {
     "end_time": "2023-12-12T11:10:21.326069800Z",
     "start_time": "2023-12-12T11:10:21.307834800Z"
    }
   },
   "id": "ec123351b8ac3c8b"
  },
  {
   "cell_type": "markdown",
   "source": [
    "## Alignment Scores in RNN Attention Mechanism\n",
    "\n",
    "The attention mechanism in a recurrent neural network (RNN) uses alignment scores to determine how much focus to place on each input in a sequence.\n",
    "\n",
    "In the context of sequence-to-sequence models, for example, if we have an encoded input sequence, an alignment score is computed for each pair of input and output positions. If \"a\" is the decoder’s hidden state and \"b\" is all of the encoder’s hidden states, the alignment score function often takes the following form:\n",
    "\n",
    "$$\n",
    "\\text{score}(a, b) = a^Tb\n",
    "$$\n",
    "\n",
    "This score indicates how well the inputs around position \"b\" and the output at position \"a\" match. The alignment scores for each input \"b\" are combined into a single vector and normalized to sum to 1, resulting in the attention weights. These weights determine the amount of 'attention' given by the model to each input timestep while producing an output. \n",
    "\n",
    "Higher alignment scores mean that the decoder pays more attention to those parts of the encoder's output.\n",
    "\n",
    "Overall, the attention mechanism improves the accuracy of the RNN model when handling tasks with long input sequences, by enabling it to focus on the most relevant parts of the input to produce a given output."
   ],
   "metadata": {
    "collapsed": false
   },
   "id": "e761261244e15d12"
  },
  {
   "cell_type": "markdown",
   "source": [
    "## From Alignment Scores to Attention Weights\n",
    "\n",
    "After computing the alignment scores between the input and output vectors in the attention mechanism, these scores are then converted to attention weights using the softmax function.\n",
    "\n",
    "The softmax function is commonly used in neural networks to turn scores into probabilities. It is defined as:\n",
    "\n",
    "$$\n",
    "\\text{softmax}(x_i) = \\frac{\\exp(x_i)}{\\sum_j \\exp(x_j)}\n",
    "$$\n",
    "\n",
    "By applying softmax, we ensure that each weight falls in the range [0, 1] and that they all sum to 1, which allows us to interpret the attention weights as probabilities.\n",
    "\n",
    "In the context of attention mechanisms, the softmax function is applied to the alignment scores for each input and output pair, resulting in attention weights. Therefore, each input element in a sequence gets an attention weight. Now the model knows how much attention it needs to pay to each element when encoding information.\n",
    "\n",
    "For a given output, positions in the input sequence with a higher attention weight have a greater influence on the computation. This means our decoder will \"pay more attention\" to these positions during the encoding of the sequence."
   ],
   "metadata": {
    "collapsed": false
   },
   "id": "6f59370463267f6d"
  }
 ],
 "metadata": {
  "kernelspec": {
   "display_name": "Python 3",
   "language": "python",
   "name": "python3"
  },
  "language_info": {
   "codemirror_mode": {
    "name": "ipython",
    "version": 2
   },
   "file_extension": ".py",
   "mimetype": "text/x-python",
   "name": "python",
   "nbconvert_exporter": "python",
   "pygments_lexer": "ipython2",
   "version": "2.7.6"
  }
 },
 "nbformat": 4,
 "nbformat_minor": 5
}
