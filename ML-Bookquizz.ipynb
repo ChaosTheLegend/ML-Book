{
 "cells": [
  {
   "cell_type": "markdown",
   "id": "5ffcb30cf3fce291",
   "metadata": {},
   "source": [
    "Hello vsem\n"
   ]
  },
  {
   "cell_type": "code",
   "execution_count": 1,
   "id": "32987f6160ec0fcb",
   "metadata": {},
   "outputs": [
    {
     "ename": "ModuleNotFoundError",
     "evalue": "No module named 'jupyterquiz'",
     "output_type": "error",
     "traceback": [
      "\u001b[0;31m---------------------------------------------------------------------------\u001b[0m",
      "\u001b[0;31mModuleNotFoundError\u001b[0m                       Traceback (most recent call last)",
      "Cell \u001b[0;32mIn[1], line 1\u001b[0m\n\u001b[0;32m----> 1\u001b[0m \u001b[38;5;28;01mfrom\u001b[39;00m \u001b[38;5;21;01mjupyterquiz\u001b[39;00m \u001b[38;5;28;01mimport\u001b[39;00m display_quiz\n\u001b[1;32m      3\u001b[0m git_path\u001b[38;5;241m=\u001b[39m\u001b[38;5;124m\"\u001b[39m\u001b[38;5;124mhttps://raw.github.com/ChaosTheLegend/ML-Book\u001b[39m\u001b[38;5;124m\"\u001b[39m\n",
      "\u001b[0;31mModuleNotFoundError\u001b[0m: No module named 'jupyterquiz'"
     ]
    }
   ],
   "source": [
    "from jupyterquiz import display_quiz\n",
    "\n",
    "git_path=\"https://raw.github.com/ChaosTheLegend/ML-Book\""
   ]
  },
  {
   "cell_type": "code",
   "execution_count": 2,
   "id": "842d99705f3300cb",
   "metadata": {},
   "outputs": [
    {
     "ename": "NameError",
     "evalue": "name 'display_quiz' is not defined",
     "output_type": "error",
     "traceback": [
      "\u001b[0;31m---------------------------------------------------------------------------\u001b[0m",
      "\u001b[0;31mNameError\u001b[0m                                 Traceback (most recent call last)",
      "Cell \u001b[0;32mIn[2], line 1\u001b[0m\n\u001b[0;32m----> 1\u001b[0m display_quiz(git_path\u001b[38;5;241m+\u001b[39m\u001b[38;5;124m\"\u001b[39m\u001b[38;5;124mquizzdata.json\u001b[39m\u001b[38;5;124m\"\u001b[39m)\n",
      "\u001b[0;31mNameError\u001b[0m: name 'display_quiz' is not defined"
     ]
    }
   ],
   "source": [
    "display_quiz(git_path+\"quizzdata.json\")"
   ]
  },
  {
   "cell_type": "code",
   "execution_count": 5,
   "id": "53e2e568",
   "metadata": {},
   "outputs": [
    {
     "ename": "SyntaxError",
     "evalue": "closing parenthesis '}' does not match opening parenthesis '[' on line 4 (47318805.py, line 24)",
     "output_type": "error",
     "traceback": [
      "\u001b[0;36m  Cell \u001b[0;32mIn[5], line 24\u001b[0;36m\u001b[0m\n\u001b[0;31m    }}\u001b[0m\n\u001b[0m     ^\u001b[0m\n\u001b[0;31mSyntaxError\u001b[0m\u001b[0;31m:\u001b[0m closing parenthesis '}' does not match opening parenthesis '[' on line 4\n"
     ]
    }
   ],
   "source": [
    "  {\n",
    "        \"question\": \"Why is an RNN (Recurrent Neural Network) used for machine translation, say translating Russian to Kazakh? (Check all that apply.)\",\n",
    "        \"type\": \"multiple_choice\",\n",
    "        \"answers\": [\n",
    "            {\n",
    "                \"answer\": \"It can be trained as a supervised learning problem.\",\n",
    "                \"correct\": true,\n",
    "                \"feedback\": \"Yes. We can train it on many pairs of sentences x (Russian) and y (Kazakh).\"\n",
    "            },\n",
    "            {\n",
    "                \"answer\": \"It is strictly more powerful than a Convolutional Neural Network (CNN)\",\n",
    "                \"correct\": false,\n",
    "                \"feedback\": \"Try again.\"\n",
    "            },\n",
    "            {\n",
    "                \"answer\": \"It is applicable when the input/output is a sequence (e.g., a sequence of words).\",\n",
    "                \"correct\": true,\n",
    "                \"feedback\": \"Yes. An RNN can map from a sequence of Russian words to a sequence of Kazakh words.\"\n",
    "            },\n",
    "            {\n",
    "                \"answer\": \"RNNs represent the recurrent process of Idea->Code->Experiment->Idea->....\",\n",
    "                \"correct\": false,\n",
    "                \"feedback\": \"Try again.\"\n",
    "            }} "
   ]
  },
  {
   "cell_type": "code",
   "execution_count": 6,
   "id": "6681b1e8",
   "metadata": {},
   "outputs": [
    {
     "ename": "NameError",
     "evalue": "name 'true' is not defined",
     "output_type": "error",
     "traceback": [
      "\u001b[0;31m---------------------------------------------------------------------------\u001b[0m",
      "\u001b[0;31mNameError\u001b[0m                                 Traceback (most recent call last)",
      "Cell \u001b[0;32mIn[6], line 7\u001b[0m\n\u001b[1;32m      1\u001b[0m {\n\u001b[1;32m      2\u001b[0m         \u001b[38;5;124m\"\u001b[39m\u001b[38;5;124mquestion\u001b[39m\u001b[38;5;124m\"\u001b[39m: \u001b[38;5;124m\"\u001b[39m\u001b[38;5;124mWhy is an RNN (Recurrent Neural Network) used for machine translation, say translating Russian to Kazakh? (Check all that apply.)\u001b[39m\u001b[38;5;124m\"\u001b[39m,\n\u001b[1;32m      3\u001b[0m         \u001b[38;5;124m\"\u001b[39m\u001b[38;5;124mtype\u001b[39m\u001b[38;5;124m\"\u001b[39m: \u001b[38;5;124m\"\u001b[39m\u001b[38;5;124mmultiple_choice\u001b[39m\u001b[38;5;124m\"\u001b[39m,\n\u001b[1;32m      4\u001b[0m         \u001b[38;5;124m\"\u001b[39m\u001b[38;5;124manswers\u001b[39m\u001b[38;5;124m\"\u001b[39m: [\n\u001b[1;32m      5\u001b[0m             {\n\u001b[1;32m      6\u001b[0m                 \u001b[38;5;124m\"\u001b[39m\u001b[38;5;124manswer\u001b[39m\u001b[38;5;124m\"\u001b[39m: \u001b[38;5;124m\"\u001b[39m\u001b[38;5;124mIt can be trained as a supervised learning problem.\u001b[39m\u001b[38;5;124m\"\u001b[39m,\n\u001b[0;32m----> 7\u001b[0m                 \u001b[38;5;124m\"\u001b[39m\u001b[38;5;124mcorrect\u001b[39m\u001b[38;5;124m\"\u001b[39m: true,\n\u001b[1;32m      8\u001b[0m                 \u001b[38;5;124m\"\u001b[39m\u001b[38;5;124mfeedback\u001b[39m\u001b[38;5;124m\"\u001b[39m: \u001b[38;5;124m\"\u001b[39m\u001b[38;5;124mYes. We can train it on many pairs of sentences x (Russian) and y (Kazakh).\u001b[39m\u001b[38;5;124m\"\u001b[39m\n\u001b[1;32m      9\u001b[0m             },\n\u001b[1;32m     10\u001b[0m             {\n\u001b[1;32m     11\u001b[0m                 \u001b[38;5;124m\"\u001b[39m\u001b[38;5;124manswer\u001b[39m\u001b[38;5;124m\"\u001b[39m: \u001b[38;5;124m\"\u001b[39m\u001b[38;5;124mIt is strictly more powerful than a Convolutional Neural Network (CNN)\u001b[39m\u001b[38;5;124m\"\u001b[39m,\n\u001b[1;32m     12\u001b[0m                 \u001b[38;5;124m\"\u001b[39m\u001b[38;5;124mcorrect\u001b[39m\u001b[38;5;124m\"\u001b[39m: false,\n\u001b[1;32m     13\u001b[0m                 \u001b[38;5;124m\"\u001b[39m\u001b[38;5;124mfeedback\u001b[39m\u001b[38;5;124m\"\u001b[39m: \u001b[38;5;124m\"\u001b[39m\u001b[38;5;124mTry again.\u001b[39m\u001b[38;5;124m\"\u001b[39m\n\u001b[1;32m     14\u001b[0m             },\n\u001b[1;32m     15\u001b[0m             {\n\u001b[1;32m     16\u001b[0m                 \u001b[38;5;124m\"\u001b[39m\u001b[38;5;124manswer\u001b[39m\u001b[38;5;124m\"\u001b[39m: \u001b[38;5;124m\"\u001b[39m\u001b[38;5;124mIt is applicable when the input/output is a sequence (e.g., a sequence of words).\u001b[39m\u001b[38;5;124m\"\u001b[39m,\n\u001b[1;32m     17\u001b[0m                 \u001b[38;5;124m\"\u001b[39m\u001b[38;5;124mcorrect\u001b[39m\u001b[38;5;124m\"\u001b[39m: true,\n\u001b[1;32m     18\u001b[0m                 \u001b[38;5;124m\"\u001b[39m\u001b[38;5;124mfeedback\u001b[39m\u001b[38;5;124m\"\u001b[39m: \u001b[38;5;124m\"\u001b[39m\u001b[38;5;124mYes. An RNN can map from a sequence of Russian words to a sequence of Kazakh words.\u001b[39m\u001b[38;5;124m\"\u001b[39m\n\u001b[1;32m     19\u001b[0m             },\n\u001b[1;32m     20\u001b[0m             {\n\u001b[1;32m     21\u001b[0m                 \u001b[38;5;124m\"\u001b[39m\u001b[38;5;124manswer\u001b[39m\u001b[38;5;124m\"\u001b[39m: \u001b[38;5;124m\"\u001b[39m\u001b[38;5;124mRNNs represent the recurrent process of Idea->Code->Experiment->Idea->....\u001b[39m\u001b[38;5;124m\"\u001b[39m,\n\u001b[1;32m     22\u001b[0m                 \u001b[38;5;124m\"\u001b[39m\u001b[38;5;124mcorrect\u001b[39m\u001b[38;5;124m\"\u001b[39m: false,\n\u001b[1;32m     23\u001b[0m                 \u001b[38;5;124m\"\u001b[39m\u001b[38;5;124mfeedback\u001b[39m\u001b[38;5;124m\"\u001b[39m: \u001b[38;5;124m\"\u001b[39m\u001b[38;5;124mTry again.\u001b[39m\u001b[38;5;124m\"\u001b[39m\n\u001b[1;32m     24\u001b[0m             }   \n\u001b[1;32m     25\u001b[0m         ]\n\u001b[1;32m     26\u001b[0m     }\n",
      "\u001b[0;31mNameError\u001b[0m: name 'true' is not defined"
     ]
    }
   ],
   "source": [
    "{\n",
    "        \"question\": \"Why is an RNN (Recurrent Neural Network) used for machine translation, say translating Russian to Kazakh? (Check all that apply.)\",\n",
    "        \"type\": \"multiple_choice\",\n",
    "        \"answers\": [\n",
    "            {\n",
    "                \"answer\": \"It can be trained as a supervised learning problem.\",\n",
    "                \"correct\": true,\n",
    "                \"feedback\": \"Yes. We can train it on many pairs of sentences x (Russian) and y (Kazakh).\"\n",
    "            },\n",
    "            {\n",
    "                \"answer\": \"It is strictly more powerful than a Convolutional Neural Network (CNN)\",\n",
    "                \"correct\": false,\n",
    "                \"feedback\": \"Try again.\"\n",
    "            },\n",
    "            {\n",
    "                \"answer\": \"It is applicable when the input/output is a sequence (e.g., a sequence of words).\",\n",
    "                \"correct\": true,\n",
    "                \"feedback\": \"Yes. An RNN can map from a sequence of Russian words to a sequence of Kazakh words.\"\n",
    "            },\n",
    "            {\n",
    "                \"answer\": \"RNNs represent the recurrent process of Idea->Code->Experiment->Idea->....\",\n",
    "                \"correct\": false,\n",
    "                \"feedback\": \"Try again.\"\n",
    "            }   \n",
    "        ]\n",
    "    }"
   ]
  },
  {
   "cell_type": "code",
   "execution_count": null,
   "id": "6e2d7390",
   "metadata": {},
   "outputs": [],
   "source": []
  }
 ],
 "metadata": {
  "kernelspec": {
   "display_name": "Python 3 (ipykernel)",
   "language": "python",
   "name": "python3"
  },
  "language_info": {
   "codemirror_mode": {
    "name": "ipython",
    "version": 3
   },
   "file_extension": ".py",
   "mimetype": "text/x-python",
   "name": "python",
   "nbconvert_exporter": "python",
   "pygments_lexer": "ipython3",
   "version": "3.11.4"
  }
 },
 "nbformat": 4,
 "nbformat_minor": 5
}
