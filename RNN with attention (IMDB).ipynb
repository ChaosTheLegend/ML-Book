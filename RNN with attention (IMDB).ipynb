{
 "cells": [
  {
   "cell_type": "code",
   "execution_count": 1,
   "id": "26174028",
   "metadata": {},
   "outputs": [
    {
     "name": "stdout",
     "output_type": "stream",
     "text": [
      "WARNING:tensorflow:From C:\\Users\\altyb\\anaconda3\\Lib\\site-packages\\keras\\src\\losses.py:2976: The name tf.losses.sparse_softmax_cross_entropy is deprecated. Please use tf.compat.v1.losses.sparse_softmax_cross_entropy instead.\n",
      "\n"
     ]
    }
   ],
   "source": [
    "import tensorflow as tf\n",
    "from tensorflow.keras.preprocessing.text import Tokenizer\n",
    "from tensorflow.keras.preprocessing.sequence import pad_sequences\n",
    "from tensorflow.keras.models import Model\n",
    "from tensorflow.keras.layers import Input, Embedding, LSTM, Dense, Attention, Bidirectional, Dropout\n",
    "import numpy as np\n",
    "import matplotlib.pyplot as plt"
   ]
  },
  {
   "cell_type": "code",
   "execution_count": 2,
   "id": "3f7bf8c2",
   "metadata": {},
   "outputs": [],
   "source": [
    "# Загрузка данных\n",
    "(x_train, y_train), (x_test, y_test) = tf.keras.datasets.imdb.load_data(num_words=10000)"
   ]
  },
  {
   "cell_type": "code",
   "execution_count": 3,
   "id": "5ac9e57e",
   "metadata": {},
   "outputs": [],
   "source": [
    "# Предобработка данных\n",
    "max_len = 200\n",
    "x_train = pad_sequences(x_train, maxlen=max_len, truncating='post')\n",
    "x_test = pad_sequences(x_test, maxlen=max_len, truncating='post')"
   ]
  },
  {
   "cell_type": "code",
   "execution_count": 4,
   "id": "1d25b772",
   "metadata": {},
   "outputs": [],
   "source": [
    "# Модель RNN с attention\n",
    "embedding_dim = 100\n",
    "hidden_dim = 256\n",
    "output_dim = 1\n",
    "dropout_rate = 0.5"
   ]
  },
  {
   "cell_type": "code",
   "execution_count": 5,
   "id": "675ea6aa",
   "metadata": {},
   "outputs": [
    {
     "name": "stdout",
     "output_type": "stream",
     "text": [
      "WARNING:tensorflow:From C:\\Users\\altyb\\anaconda3\\Lib\\site-packages\\keras\\src\\backend.py:1398: The name tf.executing_eagerly_outside_functions is deprecated. Please use tf.compat.v1.executing_eagerly_outside_functions instead.\n",
      "\n"
     ]
    }
   ],
   "source": [
    "inputs = Input(shape=(max_len,))\n",
    "embedding = Embedding(input_dim=10000, output_dim=embedding_dim, input_length=max_len)(inputs)\n",
    "lstm = Bidirectional(LSTM(hidden_dim, return_sequences=True))(embedding)\n",
    "attention = Attention()([lstm, lstm])\n",
    "context = tf.reduce_sum(attention * lstm, axis=1)\n",
    "dropout = Dropout(dropout_rate)(context)\n",
    "output = Dense(output_dim, activation='sigmoid')(dropout)\n",
    "model = Model(inputs=inputs, outputs=output)"
   ]
  },
  {
   "cell_type": "code",
   "execution_count": 6,
   "id": "11a8d352",
   "metadata": {},
   "outputs": [
    {
     "name": "stdout",
     "output_type": "stream",
     "text": [
      "WARNING:tensorflow:From C:\\Users\\altyb\\anaconda3\\Lib\\site-packages\\keras\\src\\optimizers\\__init__.py:309: The name tf.train.Optimizer is deprecated. Please use tf.compat.v1.train.Optimizer instead.\n",
      "\n"
     ]
    }
   ],
   "source": [
    "# Компиляция модели\n",
    "model.compile(optimizer='adam', loss='binary_crossentropy', metrics=['accuracy'])"
   ]
  },
  {
   "cell_type": "code",
   "execution_count": 13,
   "id": "9d8fcd05",
   "metadata": {},
   "outputs": [],
   "source": [
    "# Добавленные строки для сохранения весов внимания\n",
    "attention_weights = []"
   ]
  },
  {
   "cell_type": "code",
   "execution_count": 8,
   "id": "30d2a556",
   "metadata": {},
   "outputs": [
    {
     "name": "stdout",
     "output_type": "stream",
     "text": [
      "WARNING:tensorflow:From C:\\Users\\altyb\\anaconda3\\Lib\\site-packages\\keras\\src\\utils\\tf_utils.py:492: The name tf.ragged.RaggedTensorValue is deprecated. Please use tf.compat.v1.ragged.RaggedTensorValue instead.\n",
      "\n",
      "WARNING:tensorflow:From C:\\Users\\altyb\\anaconda3\\Lib\\site-packages\\keras\\src\\engine\\base_layer_utils.py:384: The name tf.executing_eagerly_outside_functions is deprecated. Please use tf.compat.v1.executing_eagerly_outside_functions instead.\n",
      "\n",
      "391/391 [==============================] - 315s 793ms/step - loss: 0.4134 - accuracy: 0.8046 - val_loss: 0.3297 - val_accuracy: 0.8545\n",
      "391/391 [==============================] - 316s 807ms/step - loss: 0.2459 - accuracy: 0.9013 - val_loss: 0.3538 - val_accuracy: 0.8525\n",
      "391/391 [==============================] - 305s 779ms/step - loss: 0.1898 - accuracy: 0.9241 - val_loss: 0.4803 - val_accuracy: 0.8113\n"
     ]
    }
   ],
   "source": [
    "# Обучение модели\n",
    "for epoch in range(3):\n",
    "    history = model.fit(x_train, y_train, epochs=1, batch_size=64, validation_data=(x_test, y_test))\n",
    "\n",
    "    # Получение весов внимания\n",
    "    attention_layer = model.layers[2]  # Получаем attention слой\n",
    "    weights = attention_layer.get_weights()[0]\n",
    "    mean_attention_weight = np.mean(weights)\n",
    "    attention_weights.append(mean_attention_weight)"
   ]
  },
  {
   "cell_type": "code",
   "execution_count": 9,
   "id": "7ad2f2fe",
   "metadata": {},
   "outputs": [
    {
     "name": "stdout",
     "output_type": "stream",
     "text": [
      "782/782 [==============================] - 97s 123ms/step - loss: 0.4803 - accuracy: 0.8113\n",
      "Test Loss: 0.480, Test Accuracy: 81.13%\n"
     ]
    }
   ],
   "source": [
    "# Оценка точности модели\n",
    "loss, accuracy = model.evaluate(x_test, y_test)\n",
    "print(f'Test Loss: {loss:.3f}, Test Accuracy: {accuracy * 100:.2f}%')"
   ]
  },
  {
   "cell_type": "code",
   "execution_count": 11,
   "id": "11d1b8da",
   "metadata": {},
   "outputs": [
    {
     "data": {
      "text/plain": [
       "[-0.00066940946, -0.00023228649, -0.000120513665]"
      ]
     },
     "execution_count": 11,
     "metadata": {},
     "output_type": "execute_result"
    }
   ],
   "source": [
    "attention_weights"
   ]
  },
  {
   "cell_type": "code",
   "execution_count": 12,
   "id": "3f255874",
   "metadata": {},
   "outputs": [
    {
     "data": {
      "text/plain": [
       "0.8112800121307373"
      ]
     },
     "execution_count": 12,
     "metadata": {},
     "output_type": "execute_result"
    }
   ],
   "source": [
    "accuracy"
   ]
  },
  {
   "cell_type": "code",
   "execution_count": null,
   "id": "775b36db",
   "metadata": {},
   "outputs": [],
   "source": []
  }
 ],
 "metadata": {
  "kernelspec": {
   "display_name": "Python 3 (ipykernel)",
   "language": "python",
   "name": "python3"
  },
  "language_info": {
   "codemirror_mode": {
    "name": "ipython",
    "version": 3
   },
   "file_extension": ".py",
   "mimetype": "text/x-python",
   "name": "python",
   "nbconvert_exporter": "python",
   "pygments_lexer": "ipython3",
   "version": "3.11.4"
  }
 },
 "nbformat": 4,
 "nbformat_minor": 5
}
