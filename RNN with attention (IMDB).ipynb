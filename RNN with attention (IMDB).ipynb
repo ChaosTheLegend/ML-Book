{
 "cells": [
  {
   "cell_type": "code",
   "execution_count": 1,
   "id": "26174028",
   "metadata": {
    "ExecuteTime": {
     "end_time": "2023-12-06T18:45:01.788388200Z",
     "start_time": "2023-12-06T18:44:58.483364500Z"
    }
   },
   "outputs": [],
   "source": [
    "import tensorflow as tf\n",
    "from tensorflow.keras.preprocessing.text import Tokenizer\n",
    "from tensorflow.keras.preprocessing.sequence import pad_sequences\n",
    "from tensorflow.keras.models import Model\n",
    "from tensorflow.keras.layers import Input, Embedding, LSTM, Dense, Attention, Bidirectional, Dropout\n",
    "import numpy as np\n",
    "import matplotlib.pyplot as plt"
   ]
  },
  {
   "cell_type": "code",
   "execution_count": 2,
   "id": "3f7bf8c2",
   "metadata": {
    "ExecuteTime": {
     "end_time": "2023-12-06T18:45:20.145111900Z",
     "start_time": "2023-12-06T18:45:01.787385600Z"
    }
   },
   "outputs": [
    {
     "name": "stdout",
     "output_type": "stream",
     "text": [
      "Downloading data from https://storage.googleapis.com/tensorflow/tf-keras-datasets/imdb.npz\n",
      "17464789/17464789 [==============================] - 15s 1us/step\n"
     ]
    }
   ],
   "source": [
    "# Загрузка данных\n",
    "(x_train, y_train), (x_test, y_test) = tf.keras.datasets.imdb.load_data(num_words=10000)"
   ]
  },
  {
   "cell_type": "code",
   "execution_count": 3,
   "id": "5ac9e57e",
   "metadata": {
    "ExecuteTime": {
     "end_time": "2023-12-06T18:45:20.527975600Z",
     "start_time": "2023-12-06T18:45:20.145111900Z"
    }
   },
   "outputs": [],
   "source": [
    "# Предобработка данных\n",
    "max_len = 200\n",
    "x_train = pad_sequences(x_train, maxlen=max_len, truncating='post')\n",
    "x_test = pad_sequences(x_test, maxlen=max_len, truncating='post')"
   ]
  },
  {
   "cell_type": "code",
   "execution_count": 4,
   "id": "1d25b772",
   "metadata": {
    "ExecuteTime": {
     "end_time": "2023-12-06T18:45:20.534440800Z",
     "start_time": "2023-12-06T18:45:20.527975600Z"
    }
   },
   "outputs": [],
   "source": [
    "# Модель RNN с attention\n",
    "embedding_dim = 100\n",
    "hidden_dim = 256\n",
    "output_dim = 1\n",
    "dropout_rate = 0.5"
   ]
  },
  {
   "cell_type": "code",
   "execution_count": 5,
   "id": "675ea6aa",
   "metadata": {
    "ExecuteTime": {
     "end_time": "2023-12-06T18:45:21.112562600Z",
     "start_time": "2023-12-06T18:45:20.533438700Z"
    }
   },
   "outputs": [],
   "source": [
    "inputs = Input(shape=(max_len,))\n",
    "embedding = Embedding(input_dim=10000, output_dim=embedding_dim, input_length=max_len)(inputs)\n",
    "lstm = Bidirectional(LSTM(hidden_dim, return_sequences=True))(embedding)\n",
    "attention = Attention()([lstm, lstm])\n",
    "context = tf.reduce_sum(attention * lstm, axis=1)\n",
    "dropout = Dropout(dropout_rate)(context)\n",
    "output = Dense(output_dim, activation='sigmoid')(dropout)\n",
    "model = Model(inputs=inputs, outputs=output)"
   ]
  },
  {
   "cell_type": "code",
   "execution_count": 6,
   "id": "11a8d352",
   "metadata": {
    "ExecuteTime": {
     "end_time": "2023-12-06T18:45:21.125152300Z",
     "start_time": "2023-12-06T18:45:21.112562600Z"
    }
   },
   "outputs": [],
   "source": [
    "# Компиляция модели\n",
    "model.compile(optimizer='adam', loss='binary_crossentropy', metrics=['accuracy'])"
   ]
  },
  {
   "cell_type": "code",
   "execution_count": 7,
   "id": "9d8fcd05",
   "metadata": {
    "ExecuteTime": {
     "end_time": "2023-12-06T18:45:21.131086400Z",
     "start_time": "2023-12-06T18:45:21.125571900Z"
    }
   },
   "outputs": [],
   "source": [
    "# Добавленные строки для сохранения весов внимания\n",
    "attention_weights = []"
   ]
  },
  {
   "cell_type": "code",
   "execution_count": 8,
   "id": "30d2a556",
   "metadata": {
    "ExecuteTime": {
     "end_time": "2023-12-06T19:10:08.891720100Z",
     "start_time": "2023-12-06T18:45:21.128079500Z"
    }
   },
   "outputs": [
    {
     "name": "stdout",
     "output_type": "stream",
     "text": [
      "391/391 [==============================] - 499s 1s/step - loss: 0.5311 - accuracy: 0.7384 - val_loss: 0.3394 - val_accuracy: 0.8500\n",
      "391/391 [==============================] - 503s 1s/step - loss: 0.2582 - accuracy: 0.8966 - val_loss: 0.3510 - val_accuracy: 0.8457\n",
      "391/391 [==============================] - 486s 1s/step - loss: 0.1949 - accuracy: 0.9240 - val_loss: 0.4180 - val_accuracy: 0.8459\n"
     ]
    }
   ],
   "source": [
    "# Обучение модели\n",
    "for epoch in range(3):\n",
    "    history = model.fit(x_train, y_train, epochs=1, batch_size=64, validation_data=(x_test, y_test))\n",
    "\n",
    "    # Получение весов внимания\n",
    "    attention_layer = model.layers[2]  # Получаем attention слой\n",
    "    weights = attention_layer.get_weights()[0]\n",
    "    mean_attention_weight = np.mean(weights)\n",
    "    attention_weights.append(mean_attention_weight)"
   ]
  },
  {
   "cell_type": "code",
   "execution_count": 9,
   "id": "7ad2f2fe",
   "metadata": {
    "ExecuteTime": {
     "end_time": "2023-12-06T19:12:00.375425800Z",
     "start_time": "2023-12-06T19:10:08.891720100Z"
    }
   },
   "outputs": [
    {
     "name": "stdout",
     "output_type": "stream",
     "text": [
      "782/782 [==============================] - 111s 143ms/step - loss: 0.4180 - accuracy: 0.8459\n",
      "Test Loss: 0.418, Test Accuracy: 84.59%\n"
     ]
    }
   ],
   "source": [
    "# Оценка точности модели\n",
    "loss, accuracy = model.evaluate(x_test, y_test)\n",
    "print(f'Test Loss: {loss:.3f}, Test Accuracy: {accuracy * 100:.2f}%')"
   ]
  },
  {
   "cell_type": "code",
   "execution_count": 10,
   "id": "11d1b8da",
   "metadata": {
    "ExecuteTime": {
     "end_time": "2023-12-06T19:12:00.386755500Z",
     "start_time": "2023-12-06T19:12:00.375425800Z"
    }
   },
   "outputs": [
    {
     "data": {
      "text/plain": "[0.0004714129, 0.00037414717, 6.578885e-05]"
     },
     "execution_count": 10,
     "metadata": {},
     "output_type": "execute_result"
    }
   ],
   "source": [
    "attention_weights"
   ]
  },
  {
   "cell_type": "code",
   "execution_count": 11,
   "id": "3f255874",
   "metadata": {
    "ExecuteTime": {
     "end_time": "2023-12-06T19:12:00.387755500Z",
     "start_time": "2023-12-06T19:12:00.382216900Z"
    }
   },
   "outputs": [
    {
     "data": {
      "text/plain": "0.8458799719810486"
     },
     "execution_count": 11,
     "metadata": {},
     "output_type": "execute_result"
    }
   ],
   "source": [
    "accuracy"
   ]
  },
  {
   "cell_type": "code",
   "execution_count": 11,
   "id": "775b36db",
   "metadata": {
    "ExecuteTime": {
     "end_time": "2023-12-06T19:12:00.394279400Z",
     "start_time": "2023-12-06T19:12:00.387755500Z"
    }
   },
   "outputs": [],
   "source": []
  }
 ],
 "metadata": {
  "kernelspec": {
   "display_name": "Python 3 (ipykernel)",
   "language": "python",
   "name": "python3"
  },
  "language_info": {
   "codemirror_mode": {
    "name": "ipython",
    "version": 3
   },
   "file_extension": ".py",
   "mimetype": "text/x-python",
   "name": "python",
   "nbconvert_exporter": "python",
   "pygments_lexer": "ipython3",
   "version": "3.11.4"
  }
 },
 "nbformat": 4,
 "nbformat_minor": 5
}
